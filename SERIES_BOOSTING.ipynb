{
  "cells": [
    {
      "cell_type": "markdown",
      "metadata": {
        "id": "k0DZwfa_lGnC"
      },
      "source": []
    },
    {
      "cell_type": "markdown",
      "metadata": {
        "id": "qABA87jBln2C"
      },
      "source": [
        "# 1.PLANTEAMIENTO DEL PROBLEMA Y OBJETIVO DE LA INVESTIGACION"
      ]
    },
    {
      "cell_type": "markdown",
      "metadata": {
        "id": "KNgbZ7kolLKO"
      },
      "source": [
        "Los ataques suicidas terroristas representan una amenaza grave y multifacética debido a su alta letalidad, impacto psicológico y complejidad táctica. Entender sus características es crucial para desarrollar estrategias efectivas de prevención y respuesta. Esto incluye una combinación de inteligencia, seguridad física, programas de desradicalización y cooperación internacional para mitigar y, en última instancia, prevenir estos ataques devastadores. Son un fenómeno complejo con características distintivas que los diferencian de otros tipos de actos terroristas.\n",
        "### Caracteristicas clave de los ataques terroristas suicidas :\n",
        "\n",
        "### 1. *Motivación y Objetivos*\n",
        "- *Sacrificio Personal*: Los perpetradores están dispuestos a morir en el ataque, lo que elimina la necesidad de escape y permite ejecutar misiones más arriesgadas y complejas.\n",
        "- *Impacto Psicológico*: Estos ataques buscan causar terror y desmoralización en la población objetivo debido a su naturaleza letal y aparentemente irracional.\n",
        "- *Simbología y Propaganda*: A menudo son utilizados por grupos terroristas para simbolizar el compromiso extremo con su causa y para reclutar y radicalizar a nuevos miembros.\n",
        "\n",
        "### 2. *Técnicas y Tácticas*\n",
        "- *Carga Explosiva Personal*: Los atacantes suelen llevar explosivos en su cuerpo o en objetos cercanos (como mochilas o cinturones explosivos).\n",
        "- *Vehículos Bomba*: En algunos casos, los atacantes suicidas usan vehículos cargados con explosivos para maximizar el daño.\n",
        "- *Ataques Coordinados*: A veces, múltiples atacantes suicidas actúan de manera coordinada para aumentar el impacto y la complejidad de la respuesta de seguridad.\n",
        "\n",
        "### 3. *Seleccion de Objetivos*\n",
        "- *Lugares Públicos*: Los atacantes suelen dirigirse a lugares con alta concentración de personas, como mercados, estaciones de transporte, conciertos, y eventos deportivos.\n",
        "- *Objetivos Simbólicos*: También pueden elegir lugares que tienen un valor simbólico alto, como embajadas, edificios gubernamentales, instalaciones militares, y sitios religiosos.\n",
        "- *Infraestructuras Críticas*: En ocasiones, los ataques se dirigen a infraestructuras críticas como aeropuertos, puertos y plantas de energía.\n",
        "\n",
        "### 4. *Planificación y Ejecución*\n",
        "- *Reclutamiento y Entrenamiento*: Los atacantes suicidas a menudo pasan por un proceso de radicalización y entrenamiento intensivo, tanto psicológico como técnico.\n",
        "- *Logística y Apoyo*: Requieren una red de apoyo para proporcionar explosivos, transporte, inteligencia sobre el objetivo y, en algunos casos, refugio antes del ataque.\n",
        "- *Innovación Táctica*: Los métodos y las técnicas evolucionan para adaptarse a las medidas de seguridad, utilizando tecnologías y tácticas que maximicen el éxito del ataque.\n",
        "\n",
        "### 5. *Perfil de los Atacantes*\n",
        "- *Diversidad Demográfica*: Los atacantes pueden provenir de diversas edades, géneros y orígenes socioeconómicos, aunque comúnmente son jóvenes.\n",
        "- *Motivaciones Ideológicas*: Las motivaciones suelen estar profundamente arraigadas en creencias ideológicas, religiosas o políticas extremas.\n",
        "- *Estado Mental*: Los perpetradores pueden estar sujetos a adoctrinamiento intenso, manipulación emocional y presión social, que los lleva a ver el ataque como un acto de martirio o sacrificio heroico.\n",
        "\n",
        "### 6. *Impacto y Consecuencias*\n",
        "- *Alta Letalidad*: Estos ataques suelen resultar en un alto número de víctimas mortales y heridos debido a la proximidad del atacante a los objetivos.\n",
        "- *Desestabilización Social y Política*: Pueden desencadenar respuestas desproporcionadas de las fuerzas de seguridad y generar tensión política y social.\n",
        "- *Cobertura Mediática*: La naturaleza extrema y dramática de estos ataques atrae una amplia cobertura mediática, amplificando su impacto psicológico y propagandístico.\n",
        "\n",
        "### 7. *Prevención y Contramedidas*\n",
        "- *Inteligencia y Monitoreo*: La identificación temprana de redes de radicalización y la vigilancia de potenciales atacantes son cruciales.\n",
        "- *Seguridad Física*: Mejora de la seguridad en lugares públicos y objetivos potenciales mediante controles de acceso y dispositivos de detección de explosivos.\n",
        "- *Programas de Desradicalización*: Iniciativas para prevenir la radicalización y reintegrar a individuos que han sido adoctrinados.\n",
        "\n"
      ]
    },
    {
      "cell_type": "markdown",
      "metadata": {
        "id": "W1yV22psmOjF"
      },
      "source": [
        "Prevenir ataques terroristas suicidas es crucial no solo por la protección directa de vidas humanas, sino también por sus beneficios en términos de seguridad nacional, estabilidad social, bienestar psicológico, impacto económico, y cooperación internacional. Las medidas preventivas efectivas son fundamentales para mantener la paz y la seguridad en las sociedades modernas.\n",
        "###Importancia de su estudio :\n",
        "\n",
        "### 1. *Protección de Vidas Humanas*\n",
        "- *Minimización de Pérdidas*: Los ataques suicidas suelen ser altamente letales, causando un gran número de muertes y heridas graves en un solo evento. Prevenir estos ataques directamente salva vidas y reduce el número de víctimas.\n",
        "- *Prevención de Daños Colaterales*: Además de las víctimas directas, los ataques pueden causar daños colaterales significativos, afectando a personas cercanas al lugar del ataque.\n",
        "\n",
        "### 2. *Estabilidad y Seguridad Nacional*\n",
        "- *Prevención de la Desestabilización*: Los ataques suicidas pueden desestabilizar regiones enteras, creando caos y desconfianza en las instituciones de seguridad.\n",
        "- *Fortalecimiento de la Confianza Pública*: La capacidad de prevenir ataques refuerza la confianza del público en el gobierno y las fuerzas de seguridad, contribuyendo a la estabilidad social y política.\n",
        "\n",
        "### 3. *Impacto Psicológico y Social*\n",
        "- *Reducción del Miedo y la Ansiedad*: Los ataques terroristas, especialmente los suicidas, tienen un impacto psicológico profundo, causando miedo y ansiedad generalizados en la población. Prevenir estos ataques ayuda a mantener la moral pública y la tranquilidad.\n",
        "- *Cohesión Social*: Evitar ataques terroristas ayuda a prevenir divisiones sociales y étnicas que los terroristas intentan explotar para crear conflictos internos.\n",
        "\n",
        "### 4. *Impacto Económico*\n",
        "- *Protección de Infraestructura*: Los ataques suicidas a menudo apuntan a infraestructuras críticas, como transportes públicos, instalaciones gubernamentales y centros comerciales. La prevención protege estos activos esenciales.\n",
        "- *Reducción de Costos*: El impacto económico de un ataque terrorista puede ser devastador, incluyendo costos de emergencia, reparación de daños, y pérdidas económicas por la interrupción de negocios y el turismo. La prevención ahorra estos costos.\n",
        "\n",
        "### 5. *Prevención de Radicalización*\n",
        "- *Interrupción de Cadenas de Reclutamiento*: La prevención de ataques incluye esfuerzos para desmantelar redes terroristas y programas de desradicalización, reduciendo la probabilidad de que individuos sean reclutados para cometer ataques suicidas.\n",
        "- *Educación y Concientización*: Las campañas preventivas también pueden incluir programas educativos que disuadan a potenciales terroristas suicidas, abordando las raíces de la radicalización.\n",
        "\n",
        "### 6. *Cooperación Internacional*\n",
        "- *Fortalecimiento de la Colaboración*: La prevención efectiva de ataques suicidas requiere cooperación internacional, compartiendo inteligencia y estrategias entre países, fortaleciendo alianzas globales contra el terrorismo.\n",
        "- *Cumplimiento de Obligaciones Globales*: Participar en la prevención de ataques terroristas ayuda a los países a cumplir con sus responsabilidades en materia de seguridad global y derechos humanos.\n",
        "\n"
      ]
    },
    {
      "cell_type": "code",
      "execution_count": 65,
      "metadata": {
        "colab": {
          "base_uri": "https://localhost:8080/"
        },
        "id": "JYzyNr4Dcodu",
        "outputId": "59c39e11-a190-49b7-e2d5-44ce294462c6"
      },
      "outputs": [
        {
          "output_type": "stream",
          "name": "stdout",
          "text": [
            "Requirement already satisfied: prophet in /usr/local/lib/python3.10/dist-packages (1.1.5)\n",
            "Requirement already satisfied: cmdstanpy>=1.0.4 in /usr/local/lib/python3.10/dist-packages (from prophet) (1.2.4)\n",
            "Requirement already satisfied: numpy>=1.15.4 in /usr/local/lib/python3.10/dist-packages (from prophet) (1.25.2)\n",
            "Requirement already satisfied: matplotlib>=2.0.0 in /usr/local/lib/python3.10/dist-packages (from prophet) (3.7.1)\n",
            "Requirement already satisfied: pandas>=1.0.4 in /usr/local/lib/python3.10/dist-packages (from prophet) (2.0.3)\n",
            "Requirement already satisfied: holidays>=0.25 in /usr/local/lib/python3.10/dist-packages (from prophet) (0.53)\n",
            "Requirement already satisfied: tqdm>=4.36.1 in /usr/local/lib/python3.10/dist-packages (from prophet) (4.66.4)\n",
            "Requirement already satisfied: importlib-resources in /usr/local/lib/python3.10/dist-packages (from prophet) (6.4.0)\n",
            "Requirement already satisfied: stanio<2.0.0,>=0.4.0 in /usr/local/lib/python3.10/dist-packages (from cmdstanpy>=1.0.4->prophet) (0.5.1)\n",
            "Requirement already satisfied: python-dateutil in /usr/local/lib/python3.10/dist-packages (from holidays>=0.25->prophet) (2.8.2)\n",
            "Requirement already satisfied: contourpy>=1.0.1 in /usr/local/lib/python3.10/dist-packages (from matplotlib>=2.0.0->prophet) (1.2.1)\n",
            "Requirement already satisfied: cycler>=0.10 in /usr/local/lib/python3.10/dist-packages (from matplotlib>=2.0.0->prophet) (0.12.1)\n",
            "Requirement already satisfied: fonttools>=4.22.0 in /usr/local/lib/python3.10/dist-packages (from matplotlib>=2.0.0->prophet) (4.53.1)\n",
            "Requirement already satisfied: kiwisolver>=1.0.1 in /usr/local/lib/python3.10/dist-packages (from matplotlib>=2.0.0->prophet) (1.4.5)\n",
            "Requirement already satisfied: packaging>=20.0 in /usr/local/lib/python3.10/dist-packages (from matplotlib>=2.0.0->prophet) (24.1)\n",
            "Requirement already satisfied: pillow>=6.2.0 in /usr/local/lib/python3.10/dist-packages (from matplotlib>=2.0.0->prophet) (9.4.0)\n",
            "Requirement already satisfied: pyparsing>=2.3.1 in /usr/local/lib/python3.10/dist-packages (from matplotlib>=2.0.0->prophet) (3.1.2)\n",
            "Requirement already satisfied: pytz>=2020.1 in /usr/local/lib/python3.10/dist-packages (from pandas>=1.0.4->prophet) (2023.4)\n",
            "Requirement already satisfied: tzdata>=2022.1 in /usr/local/lib/python3.10/dist-packages (from pandas>=1.0.4->prophet) (2024.1)\n",
            "Requirement already satisfied: six>=1.5 in /usr/local/lib/python3.10/dist-packages (from python-dateutil->holidays>=0.25->prophet) (1.16.0)\n"
          ]
        }
      ],
      "source": [
        "#Importar librerias necesarias\n",
        "import pandas as pd\n",
        "import numpy as np\n",
        "import matplotlib.pyplot as plt\n",
        "import seaborn as sns\n",
        "!pip install prophet\n",
        "from prophet import Prophet\n",
        "from sklearn.preprocessing import MinMaxScaler\n",
        "from sklearn.model_selection import train_test_split\n",
        "from sklearn.feature_selection import f_regression, SelectKBest\n",
        "from sklearn.metrics import accuracy_score\n",
        "from sklearn.metrics import accuracy_score, precision_score, recall_score, f1_score, roc_auc_score, confusion_matrix\n",
        "from sklearn.ensemble import RandomForestClassifier, GradientBoostingClassifier\n",
        "from xgboost import XGBClassifier\n",
        "from sklearn.metrics import classification_report, confusion_matrix\n",
        "from sklearn.tree import DecisionTreeClassifier, DecisionTreeRegressor\n",
        "from sklearn.ensemble import RandomForestClassifier, RandomForestRegressor\n",
        "from sklearn.ensemble import GradientBoostingClassifier, GradientBoostingRegressor\n",
        "import xgboost as xgb\n",
        "from xgboost import XGBClassifier, XGBRegressor\n",
        "\n"
      ]
    },
    {
      "cell_type": "markdown",
      "metadata": {
        "id": "vE2B56LCroiF"
      },
      "source": [
        "# 2.EDA"
      ]
    },
    {
      "cell_type": "markdown",
      "metadata": {
        "id": "hnNr_VfUeH0S"
      },
      "source": [
        "# Limpieza variables sobrantes"
      ]
    },
    {
      "cell_type": "code",
      "execution_count": 66,
      "metadata": {
        "colab": {
          "base_uri": "https://localhost:8080/",
          "height": 365
        },
        "id": "isDesbfdcodx",
        "outputId": "01523533-b6fe-430c-bb11-7441522e8734"
      },
      "outputs": [
        {
          "output_type": "execute_result",
          "data": {
            "text/plain": [
              "        eventid  iyear  imonth  iday approxdate  extended resolution  country  \\\n",
              "0  197000000001   1970       7     2        NaN         0        NaN       58   \n",
              "1  197000000002   1970       0     0        NaN         0        NaN      130   \n",
              "2  197001000001   1970       1     0        NaN         0        NaN      160   \n",
              "3  197001000002   1970       1     0        NaN         0        NaN       78   \n",
              "4  197001000003   1970       1     0        NaN         0        NaN      101   \n",
              "\n",
              "          country_txt  region                   region_txt provstate  \\\n",
              "0  Dominican Republic       2  Central America & Caribbean       NaN   \n",
              "1              Mexico       1                North America   Federal   \n",
              "2         Philippines       5               Southeast Asia    Tarlac   \n",
              "3              Greece       8               Western Europe    Attica   \n",
              "4               Japan       4                    East Asia   Fukouka   \n",
              "\n",
              "            city   latitude   longitude  specificity  vicinity location  \\\n",
              "0  Santo Domingo  18.456792  -69.951164          1.0         0      NaN   \n",
              "1    Mexico city  19.371887  -99.086624          1.0         0      NaN   \n",
              "2        Unknown  15.478598  120.599741          4.0         0      NaN   \n",
              "3         Athens  37.997490   23.762728          1.0         0      NaN   \n",
              "4        Fukouka  33.580412  130.396361          1.0         0      NaN   \n",
              "\n",
              "  summary  crit1  crit2  crit3  doubtterr  alternative alternative_txt  \\\n",
              "0     NaN      1      1      1        0.0          NaN             NaN   \n",
              "1     NaN      1      1      1        0.0          NaN             NaN   \n",
              "2     NaN      1      1      1        0.0          NaN             NaN   \n",
              "3     NaN      1      1      1        0.0          NaN             NaN   \n",
              "4     NaN      1      1      1       -9.0          NaN             NaN   \n",
              "\n",
              "   multiple  success  suicide  attacktype1                 attacktype1_txt  \\\n",
              "0       0.0        1        0            1                   Assassination   \n",
              "1       0.0        1        0            6     Hostage Taking (Kidnapping)   \n",
              "2       0.0        1        0            1                   Assassination   \n",
              "3       0.0        1        0            3               Bombing/Explosion   \n",
              "4       0.0        1        0            7  Facility/Infrastructure Attack   \n",
              "\n",
              "   attacktype2 attacktype2_txt  attacktype3 attacktype3_txt  targtype1  \\\n",
              "0          NaN             NaN          NaN             NaN         14   \n",
              "1          NaN             NaN          NaN             NaN          7   \n",
              "2          NaN             NaN          NaN             NaN         10   \n",
              "3          NaN             NaN          NaN             NaN          7   \n",
              "4          NaN             NaN          NaN             NaN          7   \n",
              "\n",
              "                 targtype1_txt  targsubtype1  \\\n",
              "0  Private Citizens & Property          68.0   \n",
              "1      Government (Diplomatic)          45.0   \n",
              "2          Journalists & Media          54.0   \n",
              "3      Government (Diplomatic)          46.0   \n",
              "4      Government (Diplomatic)          46.0   \n",
              "\n",
              "                                    targsubtype1_txt  \\\n",
              "0                                     Named Civilian   \n",
              "1  Diplomatic Personnel (outside of embassy, cons...   \n",
              "2                    Radio Journalist/Staff/Facility   \n",
              "3                                  Embassy/Consulate   \n",
              "4                                  Embassy/Consulate   \n",
              "\n",
              "                         corp1                  target1  natlty1  \\\n",
              "0                          NaN             Julio Guzman     58.0   \n",
              "1  Belgian Ambassador Daughter  Nadine Chaval, daughter     21.0   \n",
              "2             Voice of America                 Employee    217.0   \n",
              "3                          NaN             U.S. Embassy    217.0   \n",
              "4                          NaN           U.S. Consulate    217.0   \n",
              "\n",
              "          natlty1_txt  targtype2 targtype2_txt  targsubtype2 targsubtype2_txt  \\\n",
              "0  Dominican Republic        NaN           NaN           NaN              NaN   \n",
              "1             Belgium        NaN           NaN           NaN              NaN   \n",
              "2       United States        NaN           NaN           NaN              NaN   \n",
              "3       United States        NaN           NaN           NaN              NaN   \n",
              "4       United States        NaN           NaN           NaN              NaN   \n",
              "\n",
              "  corp2 target2  natlty2 natlty2_txt  targtype3 targtype3_txt  targsubtype3  \\\n",
              "0   NaN     NaN      NaN         NaN        NaN           NaN           NaN   \n",
              "1   NaN     NaN      NaN         NaN        NaN           NaN           NaN   \n",
              "2   NaN     NaN      NaN         NaN        NaN           NaN           NaN   \n",
              "3   NaN     NaN      NaN         NaN        NaN           NaN           NaN   \n",
              "4   NaN     NaN      NaN         NaN        NaN           NaN           NaN   \n",
              "\n",
              "  targsubtype3_txt corp3 target3  natlty3 natlty3_txt  \\\n",
              "0              NaN   NaN     NaN      NaN         NaN   \n",
              "1              NaN   NaN     NaN      NaN         NaN   \n",
              "2              NaN   NaN     NaN      NaN         NaN   \n",
              "3              NaN   NaN     NaN      NaN         NaN   \n",
              "4              NaN   NaN     NaN      NaN         NaN   \n",
              "\n",
              "                                gname gsubname gname2 gsubname2 gname3  \\\n",
              "0                              MANO-D      NaN    NaN       NaN    NaN   \n",
              "1  23rd of September Communist League      NaN    NaN       NaN    NaN   \n",
              "2                             Unknown      NaN    NaN       NaN    NaN   \n",
              "3                             Unknown      NaN    NaN       NaN    NaN   \n",
              "4                             Unknown      NaN    NaN       NaN    NaN   \n",
              "\n",
              "  gsubname3 motive  guncertain1  guncertain2  guncertain3  individual  nperps  \\\n",
              "0       NaN    NaN          0.0          NaN          NaN           0     NaN   \n",
              "1       NaN    NaN          0.0          NaN          NaN           0     7.0   \n",
              "2       NaN    NaN          0.0          NaN          NaN           0     NaN   \n",
              "3       NaN    NaN          0.0          NaN          NaN           0     NaN   \n",
              "4       NaN    NaN          0.0          NaN          NaN           0     NaN   \n",
              "\n",
              "   nperpcap  claimed  claimmode claimmode_txt  claim2  claimmode2  \\\n",
              "0       NaN      NaN        NaN           NaN     NaN         NaN   \n",
              "1       NaN      NaN        NaN           NaN     NaN         NaN   \n",
              "2       NaN      NaN        NaN           NaN     NaN         NaN   \n",
              "3       NaN      NaN        NaN           NaN     NaN         NaN   \n",
              "4       NaN      NaN        NaN           NaN     NaN         NaN   \n",
              "\n",
              "  claimmode2_txt  claim3  claimmode3 claimmode3_txt  compclaim  weaptype1  \\\n",
              "0            NaN     NaN         NaN            NaN        NaN         13   \n",
              "1            NaN     NaN         NaN            NaN        NaN         13   \n",
              "2            NaN     NaN         NaN            NaN        NaN         13   \n",
              "3            NaN     NaN         NaN            NaN        NaN          6   \n",
              "4            NaN     NaN         NaN            NaN        NaN          8   \n",
              "\n",
              "  weaptype1_txt  weapsubtype1        weapsubtype1_txt  weaptype2  \\\n",
              "0       Unknown           NaN                     NaN        NaN   \n",
              "1       Unknown           NaN                     NaN        NaN   \n",
              "2       Unknown           NaN                     NaN        NaN   \n",
              "3    Explosives          16.0  Unknown Explosive Type        NaN   \n",
              "4    Incendiary           NaN                     NaN        NaN   \n",
              "\n",
              "  weaptype2_txt  weapsubtype2 weapsubtype2_txt  weaptype3 weaptype3_txt  \\\n",
              "0           NaN           NaN              NaN        NaN           NaN   \n",
              "1           NaN           NaN              NaN        NaN           NaN   \n",
              "2           NaN           NaN              NaN        NaN           NaN   \n",
              "3           NaN           NaN              NaN        NaN           NaN   \n",
              "4           NaN           NaN              NaN        NaN           NaN   \n",
              "\n",
              "   weapsubtype3 weapsubtype3_txt  weaptype4 weaptype4_txt  weapsubtype4  \\\n",
              "0           NaN              NaN        NaN           NaN           NaN   \n",
              "1           NaN              NaN        NaN           NaN           NaN   \n",
              "2           NaN              NaN        NaN           NaN           NaN   \n",
              "3           NaN              NaN        NaN           NaN           NaN   \n",
              "4           NaN              NaN        NaN           NaN           NaN   \n",
              "\n",
              "  weapsubtype4_txt  weapdetail  nkill  nkillus  nkillter  nwound  nwoundus  \\\n",
              "0              NaN         NaN    1.0      NaN       NaN     0.0       NaN   \n",
              "1              NaN         NaN    0.0      NaN       NaN     0.0       NaN   \n",
              "2              NaN         NaN    1.0      NaN       NaN     0.0       NaN   \n",
              "3              NaN   Explosive    NaN      NaN       NaN     NaN       NaN   \n",
              "4              NaN  Incendiary    NaN      NaN       NaN     NaN       NaN   \n",
              "\n",
              "   nwoundte  property  propextent propextent_txt  propvalue propcomment  \\\n",
              "0       NaN         0         NaN            NaN        NaN         NaN   \n",
              "1       NaN         0         NaN            NaN        NaN         NaN   \n",
              "2       NaN         0         NaN            NaN        NaN         NaN   \n",
              "3       NaN         1         NaN            NaN        NaN         NaN   \n",
              "4       NaN         1         NaN            NaN        NaN         NaN   \n",
              "\n",
              "   ishostkid  nhostkid  nhostkidus  nhours  ndays divert kidhijcountry  \\\n",
              "0        0.0       NaN         NaN     NaN    NaN    NaN           NaN   \n",
              "1        1.0       1.0         0.0     NaN    NaN    NaN        Mexico   \n",
              "2        0.0       NaN         NaN     NaN    NaN    NaN           NaN   \n",
              "3        0.0       NaN         NaN     NaN    NaN    NaN           NaN   \n",
              "4        0.0       NaN         NaN     NaN    NaN    NaN           NaN   \n",
              "\n",
              "   ransom  ransomamt  ransomamtus  ransompaid  ransompaidus ransomnote  \\\n",
              "0     0.0        NaN          NaN         NaN           NaN        NaN   \n",
              "1     1.0   800000.0          NaN         NaN           NaN        NaN   \n",
              "2     0.0        NaN          NaN         NaN           NaN        NaN   \n",
              "3     0.0        NaN          NaN         NaN           NaN        NaN   \n",
              "4     0.0        NaN          NaN         NaN           NaN        NaN   \n",
              "\n",
              "   hostkidoutcome hostkidoutcome_txt  nreleased addnotes scite1 scite2 scite3  \\\n",
              "0             NaN                NaN        NaN      NaN    NaN    NaN    NaN   \n",
              "1             NaN                NaN        NaN      NaN    NaN    NaN    NaN   \n",
              "2             NaN                NaN        NaN      NaN    NaN    NaN    NaN   \n",
              "3             NaN                NaN        NaN      NaN    NaN    NaN    NaN   \n",
              "4             NaN                NaN        NaN      NaN    NaN    NaN    NaN   \n",
              "\n",
              "  dbsource  INT_LOG  INT_IDEO  INT_MISC  INT_ANY related  \n",
              "0     PGIS        0         0         0        0     NaN  \n",
              "1     PGIS        0         1         1        1     NaN  \n",
              "2     PGIS       -9        -9         1        1     NaN  \n",
              "3     PGIS       -9        -9         1        1     NaN  \n",
              "4     PGIS       -9        -9         1        1     NaN  "
            ],
            "text/html": [
              "\n",
              "  <div id=\"df-6c58e71d-7eed-4db2-aec1-86661340cec7\" class=\"colab-df-container\">\n",
              "    <div>\n",
              "<style scoped>\n",
              "    .dataframe tbody tr th:only-of-type {\n",
              "        vertical-align: middle;\n",
              "    }\n",
              "\n",
              "    .dataframe tbody tr th {\n",
              "        vertical-align: top;\n",
              "    }\n",
              "\n",
              "    .dataframe thead th {\n",
              "        text-align: right;\n",
              "    }\n",
              "</style>\n",
              "<table border=\"1\" class=\"dataframe\">\n",
              "  <thead>\n",
              "    <tr style=\"text-align: right;\">\n",
              "      <th></th>\n",
              "      <th>eventid</th>\n",
              "      <th>iyear</th>\n",
              "      <th>imonth</th>\n",
              "      <th>iday</th>\n",
              "      <th>approxdate</th>\n",
              "      <th>extended</th>\n",
              "      <th>resolution</th>\n",
              "      <th>country</th>\n",
              "      <th>country_txt</th>\n",
              "      <th>region</th>\n",
              "      <th>region_txt</th>\n",
              "      <th>provstate</th>\n",
              "      <th>city</th>\n",
              "      <th>latitude</th>\n",
              "      <th>longitude</th>\n",
              "      <th>specificity</th>\n",
              "      <th>vicinity</th>\n",
              "      <th>location</th>\n",
              "      <th>summary</th>\n",
              "      <th>crit1</th>\n",
              "      <th>crit2</th>\n",
              "      <th>crit3</th>\n",
              "      <th>doubtterr</th>\n",
              "      <th>alternative</th>\n",
              "      <th>alternative_txt</th>\n",
              "      <th>multiple</th>\n",
              "      <th>success</th>\n",
              "      <th>suicide</th>\n",
              "      <th>attacktype1</th>\n",
              "      <th>attacktype1_txt</th>\n",
              "      <th>attacktype2</th>\n",
              "      <th>attacktype2_txt</th>\n",
              "      <th>attacktype3</th>\n",
              "      <th>attacktype3_txt</th>\n",
              "      <th>targtype1</th>\n",
              "      <th>targtype1_txt</th>\n",
              "      <th>targsubtype1</th>\n",
              "      <th>targsubtype1_txt</th>\n",
              "      <th>corp1</th>\n",
              "      <th>target1</th>\n",
              "      <th>natlty1</th>\n",
              "      <th>natlty1_txt</th>\n",
              "      <th>targtype2</th>\n",
              "      <th>targtype2_txt</th>\n",
              "      <th>targsubtype2</th>\n",
              "      <th>targsubtype2_txt</th>\n",
              "      <th>corp2</th>\n",
              "      <th>target2</th>\n",
              "      <th>natlty2</th>\n",
              "      <th>natlty2_txt</th>\n",
              "      <th>targtype3</th>\n",
              "      <th>targtype3_txt</th>\n",
              "      <th>targsubtype3</th>\n",
              "      <th>targsubtype3_txt</th>\n",
              "      <th>corp3</th>\n",
              "      <th>target3</th>\n",
              "      <th>natlty3</th>\n",
              "      <th>natlty3_txt</th>\n",
              "      <th>gname</th>\n",
              "      <th>gsubname</th>\n",
              "      <th>gname2</th>\n",
              "      <th>gsubname2</th>\n",
              "      <th>gname3</th>\n",
              "      <th>gsubname3</th>\n",
              "      <th>motive</th>\n",
              "      <th>guncertain1</th>\n",
              "      <th>guncertain2</th>\n",
              "      <th>guncertain3</th>\n",
              "      <th>individual</th>\n",
              "      <th>nperps</th>\n",
              "      <th>nperpcap</th>\n",
              "      <th>claimed</th>\n",
              "      <th>claimmode</th>\n",
              "      <th>claimmode_txt</th>\n",
              "      <th>claim2</th>\n",
              "      <th>claimmode2</th>\n",
              "      <th>claimmode2_txt</th>\n",
              "      <th>claim3</th>\n",
              "      <th>claimmode3</th>\n",
              "      <th>claimmode3_txt</th>\n",
              "      <th>compclaim</th>\n",
              "      <th>weaptype1</th>\n",
              "      <th>weaptype1_txt</th>\n",
              "      <th>weapsubtype1</th>\n",
              "      <th>weapsubtype1_txt</th>\n",
              "      <th>weaptype2</th>\n",
              "      <th>weaptype2_txt</th>\n",
              "      <th>weapsubtype2</th>\n",
              "      <th>weapsubtype2_txt</th>\n",
              "      <th>weaptype3</th>\n",
              "      <th>weaptype3_txt</th>\n",
              "      <th>weapsubtype3</th>\n",
              "      <th>weapsubtype3_txt</th>\n",
              "      <th>weaptype4</th>\n",
              "      <th>weaptype4_txt</th>\n",
              "      <th>weapsubtype4</th>\n",
              "      <th>weapsubtype4_txt</th>\n",
              "      <th>weapdetail</th>\n",
              "      <th>nkill</th>\n",
              "      <th>nkillus</th>\n",
              "      <th>nkillter</th>\n",
              "      <th>nwound</th>\n",
              "      <th>nwoundus</th>\n",
              "      <th>nwoundte</th>\n",
              "      <th>property</th>\n",
              "      <th>propextent</th>\n",
              "      <th>propextent_txt</th>\n",
              "      <th>propvalue</th>\n",
              "      <th>propcomment</th>\n",
              "      <th>ishostkid</th>\n",
              "      <th>nhostkid</th>\n",
              "      <th>nhostkidus</th>\n",
              "      <th>nhours</th>\n",
              "      <th>ndays</th>\n",
              "      <th>divert</th>\n",
              "      <th>kidhijcountry</th>\n",
              "      <th>ransom</th>\n",
              "      <th>ransomamt</th>\n",
              "      <th>ransomamtus</th>\n",
              "      <th>ransompaid</th>\n",
              "      <th>ransompaidus</th>\n",
              "      <th>ransomnote</th>\n",
              "      <th>hostkidoutcome</th>\n",
              "      <th>hostkidoutcome_txt</th>\n",
              "      <th>nreleased</th>\n",
              "      <th>addnotes</th>\n",
              "      <th>scite1</th>\n",
              "      <th>scite2</th>\n",
              "      <th>scite3</th>\n",
              "      <th>dbsource</th>\n",
              "      <th>INT_LOG</th>\n",
              "      <th>INT_IDEO</th>\n",
              "      <th>INT_MISC</th>\n",
              "      <th>INT_ANY</th>\n",
              "      <th>related</th>\n",
              "    </tr>\n",
              "  </thead>\n",
              "  <tbody>\n",
              "    <tr>\n",
              "      <th>0</th>\n",
              "      <td>197000000001</td>\n",
              "      <td>1970</td>\n",
              "      <td>7</td>\n",
              "      <td>2</td>\n",
              "      <td>NaN</td>\n",
              "      <td>0</td>\n",
              "      <td>NaN</td>\n",
              "      <td>58</td>\n",
              "      <td>Dominican Republic</td>\n",
              "      <td>2</td>\n",
              "      <td>Central America &amp; Caribbean</td>\n",
              "      <td>NaN</td>\n",
              "      <td>Santo Domingo</td>\n",
              "      <td>18.456792</td>\n",
              "      <td>-69.951164</td>\n",
              "      <td>1.0</td>\n",
              "      <td>0</td>\n",
              "      <td>NaN</td>\n",
              "      <td>NaN</td>\n",
              "      <td>1</td>\n",
              "      <td>1</td>\n",
              "      <td>1</td>\n",
              "      <td>0.0</td>\n",
              "      <td>NaN</td>\n",
              "      <td>NaN</td>\n",
              "      <td>0.0</td>\n",
              "      <td>1</td>\n",
              "      <td>0</td>\n",
              "      <td>1</td>\n",
              "      <td>Assassination</td>\n",
              "      <td>NaN</td>\n",
              "      <td>NaN</td>\n",
              "      <td>NaN</td>\n",
              "      <td>NaN</td>\n",
              "      <td>14</td>\n",
              "      <td>Private Citizens &amp; Property</td>\n",
              "      <td>68.0</td>\n",
              "      <td>Named Civilian</td>\n",
              "      <td>NaN</td>\n",
              "      <td>Julio Guzman</td>\n",
              "      <td>58.0</td>\n",
              "      <td>Dominican Republic</td>\n",
              "      <td>NaN</td>\n",
              "      <td>NaN</td>\n",
              "      <td>NaN</td>\n",
              "      <td>NaN</td>\n",
              "      <td>NaN</td>\n",
              "      <td>NaN</td>\n",
              "      <td>NaN</td>\n",
              "      <td>NaN</td>\n",
              "      <td>NaN</td>\n",
              "      <td>NaN</td>\n",
              "      <td>NaN</td>\n",
              "      <td>NaN</td>\n",
              "      <td>NaN</td>\n",
              "      <td>NaN</td>\n",
              "      <td>NaN</td>\n",
              "      <td>NaN</td>\n",
              "      <td>MANO-D</td>\n",
              "      <td>NaN</td>\n",
              "      <td>NaN</td>\n",
              "      <td>NaN</td>\n",
              "      <td>NaN</td>\n",
              "      <td>NaN</td>\n",
              "      <td>NaN</td>\n",
              "      <td>0.0</td>\n",
              "      <td>NaN</td>\n",
              "      <td>NaN</td>\n",
              "      <td>0</td>\n",
              "      <td>NaN</td>\n",
              "      <td>NaN</td>\n",
              "      <td>NaN</td>\n",
              "      <td>NaN</td>\n",
              "      <td>NaN</td>\n",
              "      <td>NaN</td>\n",
              "      <td>NaN</td>\n",
              "      <td>NaN</td>\n",
              "      <td>NaN</td>\n",
              "      <td>NaN</td>\n",
              "      <td>NaN</td>\n",
              "      <td>NaN</td>\n",
              "      <td>13</td>\n",
              "      <td>Unknown</td>\n",
              "      <td>NaN</td>\n",
              "      <td>NaN</td>\n",
              "      <td>NaN</td>\n",
              "      <td>NaN</td>\n",
              "      <td>NaN</td>\n",
              "      <td>NaN</td>\n",
              "      <td>NaN</td>\n",
              "      <td>NaN</td>\n",
              "      <td>NaN</td>\n",
              "      <td>NaN</td>\n",
              "      <td>NaN</td>\n",
              "      <td>NaN</td>\n",
              "      <td>NaN</td>\n",
              "      <td>NaN</td>\n",
              "      <td>NaN</td>\n",
              "      <td>1.0</td>\n",
              "      <td>NaN</td>\n",
              "      <td>NaN</td>\n",
              "      <td>0.0</td>\n",
              "      <td>NaN</td>\n",
              "      <td>NaN</td>\n",
              "      <td>0</td>\n",
              "      <td>NaN</td>\n",
              "      <td>NaN</td>\n",
              "      <td>NaN</td>\n",
              "      <td>NaN</td>\n",
              "      <td>0.0</td>\n",
              "      <td>NaN</td>\n",
              "      <td>NaN</td>\n",
              "      <td>NaN</td>\n",
              "      <td>NaN</td>\n",
              "      <td>NaN</td>\n",
              "      <td>NaN</td>\n",
              "      <td>0.0</td>\n",
              "      <td>NaN</td>\n",
              "      <td>NaN</td>\n",
              "      <td>NaN</td>\n",
              "      <td>NaN</td>\n",
              "      <td>NaN</td>\n",
              "      <td>NaN</td>\n",
              "      <td>NaN</td>\n",
              "      <td>NaN</td>\n",
              "      <td>NaN</td>\n",
              "      <td>NaN</td>\n",
              "      <td>NaN</td>\n",
              "      <td>NaN</td>\n",
              "      <td>PGIS</td>\n",
              "      <td>0</td>\n",
              "      <td>0</td>\n",
              "      <td>0</td>\n",
              "      <td>0</td>\n",
              "      <td>NaN</td>\n",
              "    </tr>\n",
              "    <tr>\n",
              "      <th>1</th>\n",
              "      <td>197000000002</td>\n",
              "      <td>1970</td>\n",
              "      <td>0</td>\n",
              "      <td>0</td>\n",
              "      <td>NaN</td>\n",
              "      <td>0</td>\n",
              "      <td>NaN</td>\n",
              "      <td>130</td>\n",
              "      <td>Mexico</td>\n",
              "      <td>1</td>\n",
              "      <td>North America</td>\n",
              "      <td>Federal</td>\n",
              "      <td>Mexico city</td>\n",
              "      <td>19.371887</td>\n",
              "      <td>-99.086624</td>\n",
              "      <td>1.0</td>\n",
              "      <td>0</td>\n",
              "      <td>NaN</td>\n",
              "      <td>NaN</td>\n",
              "      <td>1</td>\n",
              "      <td>1</td>\n",
              "      <td>1</td>\n",
              "      <td>0.0</td>\n",
              "      <td>NaN</td>\n",
              "      <td>NaN</td>\n",
              "      <td>0.0</td>\n",
              "      <td>1</td>\n",
              "      <td>0</td>\n",
              "      <td>6</td>\n",
              "      <td>Hostage Taking (Kidnapping)</td>\n",
              "      <td>NaN</td>\n",
              "      <td>NaN</td>\n",
              "      <td>NaN</td>\n",
              "      <td>NaN</td>\n",
              "      <td>7</td>\n",
              "      <td>Government (Diplomatic)</td>\n",
              "      <td>45.0</td>\n",
              "      <td>Diplomatic Personnel (outside of embassy, cons...</td>\n",
              "      <td>Belgian Ambassador Daughter</td>\n",
              "      <td>Nadine Chaval, daughter</td>\n",
              "      <td>21.0</td>\n",
              "      <td>Belgium</td>\n",
              "      <td>NaN</td>\n",
              "      <td>NaN</td>\n",
              "      <td>NaN</td>\n",
              "      <td>NaN</td>\n",
              "      <td>NaN</td>\n",
              "      <td>NaN</td>\n",
              "      <td>NaN</td>\n",
              "      <td>NaN</td>\n",
              "      <td>NaN</td>\n",
              "      <td>NaN</td>\n",
              "      <td>NaN</td>\n",
              "      <td>NaN</td>\n",
              "      <td>NaN</td>\n",
              "      <td>NaN</td>\n",
              "      <td>NaN</td>\n",
              "      <td>NaN</td>\n",
              "      <td>23rd of September Communist League</td>\n",
              "      <td>NaN</td>\n",
              "      <td>NaN</td>\n",
              "      <td>NaN</td>\n",
              "      <td>NaN</td>\n",
              "      <td>NaN</td>\n",
              "      <td>NaN</td>\n",
              "      <td>0.0</td>\n",
              "      <td>NaN</td>\n",
              "      <td>NaN</td>\n",
              "      <td>0</td>\n",
              "      <td>7.0</td>\n",
              "      <td>NaN</td>\n",
              "      <td>NaN</td>\n",
              "      <td>NaN</td>\n",
              "      <td>NaN</td>\n",
              "      <td>NaN</td>\n",
              "      <td>NaN</td>\n",
              "      <td>NaN</td>\n",
              "      <td>NaN</td>\n",
              "      <td>NaN</td>\n",
              "      <td>NaN</td>\n",
              "      <td>NaN</td>\n",
              "      <td>13</td>\n",
              "      <td>Unknown</td>\n",
              "      <td>NaN</td>\n",
              "      <td>NaN</td>\n",
              "      <td>NaN</td>\n",
              "      <td>NaN</td>\n",
              "      <td>NaN</td>\n",
              "      <td>NaN</td>\n",
              "      <td>NaN</td>\n",
              "      <td>NaN</td>\n",
              "      <td>NaN</td>\n",
              "      <td>NaN</td>\n",
              "      <td>NaN</td>\n",
              "      <td>NaN</td>\n",
              "      <td>NaN</td>\n",
              "      <td>NaN</td>\n",
              "      <td>NaN</td>\n",
              "      <td>0.0</td>\n",
              "      <td>NaN</td>\n",
              "      <td>NaN</td>\n",
              "      <td>0.0</td>\n",
              "      <td>NaN</td>\n",
              "      <td>NaN</td>\n",
              "      <td>0</td>\n",
              "      <td>NaN</td>\n",
              "      <td>NaN</td>\n",
              "      <td>NaN</td>\n",
              "      <td>NaN</td>\n",
              "      <td>1.0</td>\n",
              "      <td>1.0</td>\n",
              "      <td>0.0</td>\n",
              "      <td>NaN</td>\n",
              "      <td>NaN</td>\n",
              "      <td>NaN</td>\n",
              "      <td>Mexico</td>\n",
              "      <td>1.0</td>\n",
              "      <td>800000.0</td>\n",
              "      <td>NaN</td>\n",
              "      <td>NaN</td>\n",
              "      <td>NaN</td>\n",
              "      <td>NaN</td>\n",
              "      <td>NaN</td>\n",
              "      <td>NaN</td>\n",
              "      <td>NaN</td>\n",
              "      <td>NaN</td>\n",
              "      <td>NaN</td>\n",
              "      <td>NaN</td>\n",
              "      <td>NaN</td>\n",
              "      <td>PGIS</td>\n",
              "      <td>0</td>\n",
              "      <td>1</td>\n",
              "      <td>1</td>\n",
              "      <td>1</td>\n",
              "      <td>NaN</td>\n",
              "    </tr>\n",
              "    <tr>\n",
              "      <th>2</th>\n",
              "      <td>197001000001</td>\n",
              "      <td>1970</td>\n",
              "      <td>1</td>\n",
              "      <td>0</td>\n",
              "      <td>NaN</td>\n",
              "      <td>0</td>\n",
              "      <td>NaN</td>\n",
              "      <td>160</td>\n",
              "      <td>Philippines</td>\n",
              "      <td>5</td>\n",
              "      <td>Southeast Asia</td>\n",
              "      <td>Tarlac</td>\n",
              "      <td>Unknown</td>\n",
              "      <td>15.478598</td>\n",
              "      <td>120.599741</td>\n",
              "      <td>4.0</td>\n",
              "      <td>0</td>\n",
              "      <td>NaN</td>\n",
              "      <td>NaN</td>\n",
              "      <td>1</td>\n",
              "      <td>1</td>\n",
              "      <td>1</td>\n",
              "      <td>0.0</td>\n",
              "      <td>NaN</td>\n",
              "      <td>NaN</td>\n",
              "      <td>0.0</td>\n",
              "      <td>1</td>\n",
              "      <td>0</td>\n",
              "      <td>1</td>\n",
              "      <td>Assassination</td>\n",
              "      <td>NaN</td>\n",
              "      <td>NaN</td>\n",
              "      <td>NaN</td>\n",
              "      <td>NaN</td>\n",
              "      <td>10</td>\n",
              "      <td>Journalists &amp; Media</td>\n",
              "      <td>54.0</td>\n",
              "      <td>Radio Journalist/Staff/Facility</td>\n",
              "      <td>Voice of America</td>\n",
              "      <td>Employee</td>\n",
              "      <td>217.0</td>\n",
              "      <td>United States</td>\n",
              "      <td>NaN</td>\n",
              "      <td>NaN</td>\n",
              "      <td>NaN</td>\n",
              "      <td>NaN</td>\n",
              "      <td>NaN</td>\n",
              "      <td>NaN</td>\n",
              "      <td>NaN</td>\n",
              "      <td>NaN</td>\n",
              "      <td>NaN</td>\n",
              "      <td>NaN</td>\n",
              "      <td>NaN</td>\n",
              "      <td>NaN</td>\n",
              "      <td>NaN</td>\n",
              "      <td>NaN</td>\n",
              "      <td>NaN</td>\n",
              "      <td>NaN</td>\n",
              "      <td>Unknown</td>\n",
              "      <td>NaN</td>\n",
              "      <td>NaN</td>\n",
              "      <td>NaN</td>\n",
              "      <td>NaN</td>\n",
              "      <td>NaN</td>\n",
              "      <td>NaN</td>\n",
              "      <td>0.0</td>\n",
              "      <td>NaN</td>\n",
              "      <td>NaN</td>\n",
              "      <td>0</td>\n",
              "      <td>NaN</td>\n",
              "      <td>NaN</td>\n",
              "      <td>NaN</td>\n",
              "      <td>NaN</td>\n",
              "      <td>NaN</td>\n",
              "      <td>NaN</td>\n",
              "      <td>NaN</td>\n",
              "      <td>NaN</td>\n",
              "      <td>NaN</td>\n",
              "      <td>NaN</td>\n",
              "      <td>NaN</td>\n",
              "      <td>NaN</td>\n",
              "      <td>13</td>\n",
              "      <td>Unknown</td>\n",
              "      <td>NaN</td>\n",
              "      <td>NaN</td>\n",
              "      <td>NaN</td>\n",
              "      <td>NaN</td>\n",
              "      <td>NaN</td>\n",
              "      <td>NaN</td>\n",
              "      <td>NaN</td>\n",
              "      <td>NaN</td>\n",
              "      <td>NaN</td>\n",
              "      <td>NaN</td>\n",
              "      <td>NaN</td>\n",
              "      <td>NaN</td>\n",
              "      <td>NaN</td>\n",
              "      <td>NaN</td>\n",
              "      <td>NaN</td>\n",
              "      <td>1.0</td>\n",
              "      <td>NaN</td>\n",
              "      <td>NaN</td>\n",
              "      <td>0.0</td>\n",
              "      <td>NaN</td>\n",
              "      <td>NaN</td>\n",
              "      <td>0</td>\n",
              "      <td>NaN</td>\n",
              "      <td>NaN</td>\n",
              "      <td>NaN</td>\n",
              "      <td>NaN</td>\n",
              "      <td>0.0</td>\n",
              "      <td>NaN</td>\n",
              "      <td>NaN</td>\n",
              "      <td>NaN</td>\n",
              "      <td>NaN</td>\n",
              "      <td>NaN</td>\n",
              "      <td>NaN</td>\n",
              "      <td>0.0</td>\n",
              "      <td>NaN</td>\n",
              "      <td>NaN</td>\n",
              "      <td>NaN</td>\n",
              "      <td>NaN</td>\n",
              "      <td>NaN</td>\n",
              "      <td>NaN</td>\n",
              "      <td>NaN</td>\n",
              "      <td>NaN</td>\n",
              "      <td>NaN</td>\n",
              "      <td>NaN</td>\n",
              "      <td>NaN</td>\n",
              "      <td>NaN</td>\n",
              "      <td>PGIS</td>\n",
              "      <td>-9</td>\n",
              "      <td>-9</td>\n",
              "      <td>1</td>\n",
              "      <td>1</td>\n",
              "      <td>NaN</td>\n",
              "    </tr>\n",
              "    <tr>\n",
              "      <th>3</th>\n",
              "      <td>197001000002</td>\n",
              "      <td>1970</td>\n",
              "      <td>1</td>\n",
              "      <td>0</td>\n",
              "      <td>NaN</td>\n",
              "      <td>0</td>\n",
              "      <td>NaN</td>\n",
              "      <td>78</td>\n",
              "      <td>Greece</td>\n",
              "      <td>8</td>\n",
              "      <td>Western Europe</td>\n",
              "      <td>Attica</td>\n",
              "      <td>Athens</td>\n",
              "      <td>37.997490</td>\n",
              "      <td>23.762728</td>\n",
              "      <td>1.0</td>\n",
              "      <td>0</td>\n",
              "      <td>NaN</td>\n",
              "      <td>NaN</td>\n",
              "      <td>1</td>\n",
              "      <td>1</td>\n",
              "      <td>1</td>\n",
              "      <td>0.0</td>\n",
              "      <td>NaN</td>\n",
              "      <td>NaN</td>\n",
              "      <td>0.0</td>\n",
              "      <td>1</td>\n",
              "      <td>0</td>\n",
              "      <td>3</td>\n",
              "      <td>Bombing/Explosion</td>\n",
              "      <td>NaN</td>\n",
              "      <td>NaN</td>\n",
              "      <td>NaN</td>\n",
              "      <td>NaN</td>\n",
              "      <td>7</td>\n",
              "      <td>Government (Diplomatic)</td>\n",
              "      <td>46.0</td>\n",
              "      <td>Embassy/Consulate</td>\n",
              "      <td>NaN</td>\n",
              "      <td>U.S. Embassy</td>\n",
              "      <td>217.0</td>\n",
              "      <td>United States</td>\n",
              "      <td>NaN</td>\n",
              "      <td>NaN</td>\n",
              "      <td>NaN</td>\n",
              "      <td>NaN</td>\n",
              "      <td>NaN</td>\n",
              "      <td>NaN</td>\n",
              "      <td>NaN</td>\n",
              "      <td>NaN</td>\n",
              "      <td>NaN</td>\n",
              "      <td>NaN</td>\n",
              "      <td>NaN</td>\n",
              "      <td>NaN</td>\n",
              "      <td>NaN</td>\n",
              "      <td>NaN</td>\n",
              "      <td>NaN</td>\n",
              "      <td>NaN</td>\n",
              "      <td>Unknown</td>\n",
              "      <td>NaN</td>\n",
              "      <td>NaN</td>\n",
              "      <td>NaN</td>\n",
              "      <td>NaN</td>\n",
              "      <td>NaN</td>\n",
              "      <td>NaN</td>\n",
              "      <td>0.0</td>\n",
              "      <td>NaN</td>\n",
              "      <td>NaN</td>\n",
              "      <td>0</td>\n",
              "      <td>NaN</td>\n",
              "      <td>NaN</td>\n",
              "      <td>NaN</td>\n",
              "      <td>NaN</td>\n",
              "      <td>NaN</td>\n",
              "      <td>NaN</td>\n",
              "      <td>NaN</td>\n",
              "      <td>NaN</td>\n",
              "      <td>NaN</td>\n",
              "      <td>NaN</td>\n",
              "      <td>NaN</td>\n",
              "      <td>NaN</td>\n",
              "      <td>6</td>\n",
              "      <td>Explosives</td>\n",
              "      <td>16.0</td>\n",
              "      <td>Unknown Explosive Type</td>\n",
              "      <td>NaN</td>\n",
              "      <td>NaN</td>\n",
              "      <td>NaN</td>\n",
              "      <td>NaN</td>\n",
              "      <td>NaN</td>\n",
              "      <td>NaN</td>\n",
              "      <td>NaN</td>\n",
              "      <td>NaN</td>\n",
              "      <td>NaN</td>\n",
              "      <td>NaN</td>\n",
              "      <td>NaN</td>\n",
              "      <td>NaN</td>\n",
              "      <td>Explosive</td>\n",
              "      <td>NaN</td>\n",
              "      <td>NaN</td>\n",
              "      <td>NaN</td>\n",
              "      <td>NaN</td>\n",
              "      <td>NaN</td>\n",
              "      <td>NaN</td>\n",
              "      <td>1</td>\n",
              "      <td>NaN</td>\n",
              "      <td>NaN</td>\n",
              "      <td>NaN</td>\n",
              "      <td>NaN</td>\n",
              "      <td>0.0</td>\n",
              "      <td>NaN</td>\n",
              "      <td>NaN</td>\n",
              "      <td>NaN</td>\n",
              "      <td>NaN</td>\n",
              "      <td>NaN</td>\n",
              "      <td>NaN</td>\n",
              "      <td>0.0</td>\n",
              "      <td>NaN</td>\n",
              "      <td>NaN</td>\n",
              "      <td>NaN</td>\n",
              "      <td>NaN</td>\n",
              "      <td>NaN</td>\n",
              "      <td>NaN</td>\n",
              "      <td>NaN</td>\n",
              "      <td>NaN</td>\n",
              "      <td>NaN</td>\n",
              "      <td>NaN</td>\n",
              "      <td>NaN</td>\n",
              "      <td>NaN</td>\n",
              "      <td>PGIS</td>\n",
              "      <td>-9</td>\n",
              "      <td>-9</td>\n",
              "      <td>1</td>\n",
              "      <td>1</td>\n",
              "      <td>NaN</td>\n",
              "    </tr>\n",
              "    <tr>\n",
              "      <th>4</th>\n",
              "      <td>197001000003</td>\n",
              "      <td>1970</td>\n",
              "      <td>1</td>\n",
              "      <td>0</td>\n",
              "      <td>NaN</td>\n",
              "      <td>0</td>\n",
              "      <td>NaN</td>\n",
              "      <td>101</td>\n",
              "      <td>Japan</td>\n",
              "      <td>4</td>\n",
              "      <td>East Asia</td>\n",
              "      <td>Fukouka</td>\n",
              "      <td>Fukouka</td>\n",
              "      <td>33.580412</td>\n",
              "      <td>130.396361</td>\n",
              "      <td>1.0</td>\n",
              "      <td>0</td>\n",
              "      <td>NaN</td>\n",
              "      <td>NaN</td>\n",
              "      <td>1</td>\n",
              "      <td>1</td>\n",
              "      <td>1</td>\n",
              "      <td>-9.0</td>\n",
              "      <td>NaN</td>\n",
              "      <td>NaN</td>\n",
              "      <td>0.0</td>\n",
              "      <td>1</td>\n",
              "      <td>0</td>\n",
              "      <td>7</td>\n",
              "      <td>Facility/Infrastructure Attack</td>\n",
              "      <td>NaN</td>\n",
              "      <td>NaN</td>\n",
              "      <td>NaN</td>\n",
              "      <td>NaN</td>\n",
              "      <td>7</td>\n",
              "      <td>Government (Diplomatic)</td>\n",
              "      <td>46.0</td>\n",
              "      <td>Embassy/Consulate</td>\n",
              "      <td>NaN</td>\n",
              "      <td>U.S. Consulate</td>\n",
              "      <td>217.0</td>\n",
              "      <td>United States</td>\n",
              "      <td>NaN</td>\n",
              "      <td>NaN</td>\n",
              "      <td>NaN</td>\n",
              "      <td>NaN</td>\n",
              "      <td>NaN</td>\n",
              "      <td>NaN</td>\n",
              "      <td>NaN</td>\n",
              "      <td>NaN</td>\n",
              "      <td>NaN</td>\n",
              "      <td>NaN</td>\n",
              "      <td>NaN</td>\n",
              "      <td>NaN</td>\n",
              "      <td>NaN</td>\n",
              "      <td>NaN</td>\n",
              "      <td>NaN</td>\n",
              "      <td>NaN</td>\n",
              "      <td>Unknown</td>\n",
              "      <td>NaN</td>\n",
              "      <td>NaN</td>\n",
              "      <td>NaN</td>\n",
              "      <td>NaN</td>\n",
              "      <td>NaN</td>\n",
              "      <td>NaN</td>\n",
              "      <td>0.0</td>\n",
              "      <td>NaN</td>\n",
              "      <td>NaN</td>\n",
              "      <td>0</td>\n",
              "      <td>NaN</td>\n",
              "      <td>NaN</td>\n",
              "      <td>NaN</td>\n",
              "      <td>NaN</td>\n",
              "      <td>NaN</td>\n",
              "      <td>NaN</td>\n",
              "      <td>NaN</td>\n",
              "      <td>NaN</td>\n",
              "      <td>NaN</td>\n",
              "      <td>NaN</td>\n",
              "      <td>NaN</td>\n",
              "      <td>NaN</td>\n",
              "      <td>8</td>\n",
              "      <td>Incendiary</td>\n",
              "      <td>NaN</td>\n",
              "      <td>NaN</td>\n",
              "      <td>NaN</td>\n",
              "      <td>NaN</td>\n",
              "      <td>NaN</td>\n",
              "      <td>NaN</td>\n",
              "      <td>NaN</td>\n",
              "      <td>NaN</td>\n",
              "      <td>NaN</td>\n",
              "      <td>NaN</td>\n",
              "      <td>NaN</td>\n",
              "      <td>NaN</td>\n",
              "      <td>NaN</td>\n",
              "      <td>NaN</td>\n",
              "      <td>Incendiary</td>\n",
              "      <td>NaN</td>\n",
              "      <td>NaN</td>\n",
              "      <td>NaN</td>\n",
              "      <td>NaN</td>\n",
              "      <td>NaN</td>\n",
              "      <td>NaN</td>\n",
              "      <td>1</td>\n",
              "      <td>NaN</td>\n",
              "      <td>NaN</td>\n",
              "      <td>NaN</td>\n",
              "      <td>NaN</td>\n",
              "      <td>0.0</td>\n",
              "      <td>NaN</td>\n",
              "      <td>NaN</td>\n",
              "      <td>NaN</td>\n",
              "      <td>NaN</td>\n",
              "      <td>NaN</td>\n",
              "      <td>NaN</td>\n",
              "      <td>0.0</td>\n",
              "      <td>NaN</td>\n",
              "      <td>NaN</td>\n",
              "      <td>NaN</td>\n",
              "      <td>NaN</td>\n",
              "      <td>NaN</td>\n",
              "      <td>NaN</td>\n",
              "      <td>NaN</td>\n",
              "      <td>NaN</td>\n",
              "      <td>NaN</td>\n",
              "      <td>NaN</td>\n",
              "      <td>NaN</td>\n",
              "      <td>NaN</td>\n",
              "      <td>PGIS</td>\n",
              "      <td>-9</td>\n",
              "      <td>-9</td>\n",
              "      <td>1</td>\n",
              "      <td>1</td>\n",
              "      <td>NaN</td>\n",
              "    </tr>\n",
              "  </tbody>\n",
              "</table>\n",
              "</div>\n",
              "    <div class=\"colab-df-buttons\">\n",
              "\n",
              "  <div class=\"colab-df-container\">\n",
              "    <button class=\"colab-df-convert\" onclick=\"convertToInteractive('df-6c58e71d-7eed-4db2-aec1-86661340cec7')\"\n",
              "            title=\"Convert this dataframe to an interactive table.\"\n",
              "            style=\"display:none;\">\n",
              "\n",
              "  <svg xmlns=\"http://www.w3.org/2000/svg\" height=\"24px\" viewBox=\"0 -960 960 960\">\n",
              "    <path d=\"M120-120v-720h720v720H120Zm60-500h600v-160H180v160Zm220 220h160v-160H400v160Zm0 220h160v-160H400v160ZM180-400h160v-160H180v160Zm440 0h160v-160H620v160ZM180-180h160v-160H180v160Zm440 0h160v-160H620v160Z\"/>\n",
              "  </svg>\n",
              "    </button>\n",
              "\n",
              "  <style>\n",
              "    .colab-df-container {\n",
              "      display:flex;\n",
              "      gap: 12px;\n",
              "    }\n",
              "\n",
              "    .colab-df-convert {\n",
              "      background-color: #E8F0FE;\n",
              "      border: none;\n",
              "      border-radius: 50%;\n",
              "      cursor: pointer;\n",
              "      display: none;\n",
              "      fill: #1967D2;\n",
              "      height: 32px;\n",
              "      padding: 0 0 0 0;\n",
              "      width: 32px;\n",
              "    }\n",
              "\n",
              "    .colab-df-convert:hover {\n",
              "      background-color: #E2EBFA;\n",
              "      box-shadow: 0px 1px 2px rgba(60, 64, 67, 0.3), 0px 1px 3px 1px rgba(60, 64, 67, 0.15);\n",
              "      fill: #174EA6;\n",
              "    }\n",
              "\n",
              "    .colab-df-buttons div {\n",
              "      margin-bottom: 4px;\n",
              "    }\n",
              "\n",
              "    [theme=dark] .colab-df-convert {\n",
              "      background-color: #3B4455;\n",
              "      fill: #D2E3FC;\n",
              "    }\n",
              "\n",
              "    [theme=dark] .colab-df-convert:hover {\n",
              "      background-color: #434B5C;\n",
              "      box-shadow: 0px 1px 3px 1px rgba(0, 0, 0, 0.15);\n",
              "      filter: drop-shadow(0px 1px 2px rgba(0, 0, 0, 0.3));\n",
              "      fill: #FFFFFF;\n",
              "    }\n",
              "  </style>\n",
              "\n",
              "    <script>\n",
              "      const buttonEl =\n",
              "        document.querySelector('#df-6c58e71d-7eed-4db2-aec1-86661340cec7 button.colab-df-convert');\n",
              "      buttonEl.style.display =\n",
              "        google.colab.kernel.accessAllowed ? 'block' : 'none';\n",
              "\n",
              "      async function convertToInteractive(key) {\n",
              "        const element = document.querySelector('#df-6c58e71d-7eed-4db2-aec1-86661340cec7');\n",
              "        const dataTable =\n",
              "          await google.colab.kernel.invokeFunction('convertToInteractive',\n",
              "                                                    [key], {});\n",
              "        if (!dataTable) return;\n",
              "\n",
              "        const docLinkHtml = 'Like what you see? Visit the ' +\n",
              "          '<a target=\"_blank\" href=https://colab.research.google.com/notebooks/data_table.ipynb>data table notebook</a>'\n",
              "          + ' to learn more about interactive tables.';\n",
              "        element.innerHTML = '';\n",
              "        dataTable['output_type'] = 'display_data';\n",
              "        await google.colab.output.renderOutput(dataTable, element);\n",
              "        const docLink = document.createElement('div');\n",
              "        docLink.innerHTML = docLinkHtml;\n",
              "        element.appendChild(docLink);\n",
              "      }\n",
              "    </script>\n",
              "  </div>\n",
              "\n",
              "\n",
              "<div id=\"df-3962444c-9c13-4699-af94-80c1a939ddc2\">\n",
              "  <button class=\"colab-df-quickchart\" onclick=\"quickchart('df-3962444c-9c13-4699-af94-80c1a939ddc2')\"\n",
              "            title=\"Suggest charts\"\n",
              "            style=\"display:none;\">\n",
              "\n",
              "<svg xmlns=\"http://www.w3.org/2000/svg\" height=\"24px\"viewBox=\"0 0 24 24\"\n",
              "     width=\"24px\">\n",
              "    <g>\n",
              "        <path d=\"M19 3H5c-1.1 0-2 .9-2 2v14c0 1.1.9 2 2 2h14c1.1 0 2-.9 2-2V5c0-1.1-.9-2-2-2zM9 17H7v-7h2v7zm4 0h-2V7h2v10zm4 0h-2v-4h2v4z\"/>\n",
              "    </g>\n",
              "</svg>\n",
              "  </button>\n",
              "\n",
              "<style>\n",
              "  .colab-df-quickchart {\n",
              "      --bg-color: #E8F0FE;\n",
              "      --fill-color: #1967D2;\n",
              "      --hover-bg-color: #E2EBFA;\n",
              "      --hover-fill-color: #174EA6;\n",
              "      --disabled-fill-color: #AAA;\n",
              "      --disabled-bg-color: #DDD;\n",
              "  }\n",
              "\n",
              "  [theme=dark] .colab-df-quickchart {\n",
              "      --bg-color: #3B4455;\n",
              "      --fill-color: #D2E3FC;\n",
              "      --hover-bg-color: #434B5C;\n",
              "      --hover-fill-color: #FFFFFF;\n",
              "      --disabled-bg-color: #3B4455;\n",
              "      --disabled-fill-color: #666;\n",
              "  }\n",
              "\n",
              "  .colab-df-quickchart {\n",
              "    background-color: var(--bg-color);\n",
              "    border: none;\n",
              "    border-radius: 50%;\n",
              "    cursor: pointer;\n",
              "    display: none;\n",
              "    fill: var(--fill-color);\n",
              "    height: 32px;\n",
              "    padding: 0;\n",
              "    width: 32px;\n",
              "  }\n",
              "\n",
              "  .colab-df-quickchart:hover {\n",
              "    background-color: var(--hover-bg-color);\n",
              "    box-shadow: 0 1px 2px rgba(60, 64, 67, 0.3), 0 1px 3px 1px rgba(60, 64, 67, 0.15);\n",
              "    fill: var(--button-hover-fill-color);\n",
              "  }\n",
              "\n",
              "  .colab-df-quickchart-complete:disabled,\n",
              "  .colab-df-quickchart-complete:disabled:hover {\n",
              "    background-color: var(--disabled-bg-color);\n",
              "    fill: var(--disabled-fill-color);\n",
              "    box-shadow: none;\n",
              "  }\n",
              "\n",
              "  .colab-df-spinner {\n",
              "    border: 2px solid var(--fill-color);\n",
              "    border-color: transparent;\n",
              "    border-bottom-color: var(--fill-color);\n",
              "    animation:\n",
              "      spin 1s steps(1) infinite;\n",
              "  }\n",
              "\n",
              "  @keyframes spin {\n",
              "    0% {\n",
              "      border-color: transparent;\n",
              "      border-bottom-color: var(--fill-color);\n",
              "      border-left-color: var(--fill-color);\n",
              "    }\n",
              "    20% {\n",
              "      border-color: transparent;\n",
              "      border-left-color: var(--fill-color);\n",
              "      border-top-color: var(--fill-color);\n",
              "    }\n",
              "    30% {\n",
              "      border-color: transparent;\n",
              "      border-left-color: var(--fill-color);\n",
              "      border-top-color: var(--fill-color);\n",
              "      border-right-color: var(--fill-color);\n",
              "    }\n",
              "    40% {\n",
              "      border-color: transparent;\n",
              "      border-right-color: var(--fill-color);\n",
              "      border-top-color: var(--fill-color);\n",
              "    }\n",
              "    60% {\n",
              "      border-color: transparent;\n",
              "      border-right-color: var(--fill-color);\n",
              "    }\n",
              "    80% {\n",
              "      border-color: transparent;\n",
              "      border-right-color: var(--fill-color);\n",
              "      border-bottom-color: var(--fill-color);\n",
              "    }\n",
              "    90% {\n",
              "      border-color: transparent;\n",
              "      border-bottom-color: var(--fill-color);\n",
              "    }\n",
              "  }\n",
              "</style>\n",
              "\n",
              "  <script>\n",
              "    async function quickchart(key) {\n",
              "      const quickchartButtonEl =\n",
              "        document.querySelector('#' + key + ' button');\n",
              "      quickchartButtonEl.disabled = true;  // To prevent multiple clicks.\n",
              "      quickchartButtonEl.classList.add('colab-df-spinner');\n",
              "      try {\n",
              "        const charts = await google.colab.kernel.invokeFunction(\n",
              "            'suggestCharts', [key], {});\n",
              "      } catch (error) {\n",
              "        console.error('Error during call to suggestCharts:', error);\n",
              "      }\n",
              "      quickchartButtonEl.classList.remove('colab-df-spinner');\n",
              "      quickchartButtonEl.classList.add('colab-df-quickchart-complete');\n",
              "    }\n",
              "    (() => {\n",
              "      let quickchartButtonEl =\n",
              "        document.querySelector('#df-3962444c-9c13-4699-af94-80c1a939ddc2 button');\n",
              "      quickchartButtonEl.style.display =\n",
              "        google.colab.kernel.accessAllowed ? 'block' : 'none';\n",
              "    })();\n",
              "  </script>\n",
              "</div>\n",
              "\n",
              "    </div>\n",
              "  </div>\n"
            ],
            "application/vnd.google.colaboratory.intrinsic+json": {
              "type": "dataframe",
              "variable_name": "data"
            }
          },
          "metadata": {},
          "execution_count": 66
        }
      ],
      "source": [
        "#  leer el archivo CSV con diferentes delimitadores\n",
        "try:\n",
        "    data = pd.read_csv(\"globalterrorismdb.csv\", encoding='latin1')\n",
        "except pd.errors.ParserError:\n",
        "    data = pd.read_csv(\"../data/raw/globalterrorismdb.csv\", sep=\",\", encoding='latin1')\n",
        "except pd.errors.ParserError:\n",
        "    data = pd.read_csv(\"../data/raw/globalterrorismdb.csv.csv\", sep=\"\\t\", encoding='latin1')\n",
        "\n",
        "pd.set_option('display.max_columns', None)\n",
        "\n",
        "# Mostrar las primeras filas del dataframe para verificar que se ha cargado correctamente\n",
        "data.head()"
      ]
    },
    {
      "cell_type": "code",
      "execution_count": 67,
      "metadata": {
        "colab": {
          "base_uri": "https://localhost:8080/"
        },
        "id": "Ax2use6rcody",
        "outputId": "0bf522db-aa4e-417e-8f2a-a0dfddbd9c32"
      },
      "outputs": [
        {
          "output_type": "stream",
          "name": "stdout",
          "text": [
            "Estructura del dataset: (181691, 135)\n",
            "--------------------------------------\n",
            "<class 'pandas.core.frame.DataFrame'>\n",
            "RangeIndex: 181691 entries, 0 to 181690\n",
            "Columns: 135 entries, eventid to related\n",
            "dtypes: float64(55), int64(22), object(58)\n",
            "memory usage: 187.1+ MB\n"
          ]
        }
      ],
      "source": [
        "print(f\"Estructura del dataset: {data.shape}\")\n",
        "print(\"--------------------------------------\")\n",
        "data.info()"
      ]
    },
    {
      "cell_type": "markdown",
      "metadata": {
        "id": "BLlu5lTScodz"
      },
      "source": [
        "Este dataset contiene informacion detallada sobre más de 180,000 casos de indicentes terroristas, abarcando una amplia gama de variables clave como son la fecha y ubicacion del incidente, armas usadas, naturaleza del objetivo, número de víctimas..."
      ]
    },
    {
      "cell_type": "code",
      "execution_count": 68,
      "metadata": {
        "colab": {
          "base_uri": "https://localhost:8080/"
        },
        "id": "SkTTWS2rcod0",
        "outputId": "67ad2572-4a07-48d6-9454-6fd9fb345bf6"
      },
      "outputs": [
        {
          "output_type": "stream",
          "name": "stdout",
          "text": [
            "Valores duplicados: Empty DataFrame\n",
            "Columns: [eventid, iyear, imonth, iday, approxdate, extended, resolution, country, country_txt, region, region_txt, provstate, city, latitude, longitude, specificity, vicinity, location, summary, crit1, crit2, crit3, doubtterr, alternative, alternative_txt, multiple, success, suicide, attacktype1, attacktype1_txt, attacktype2, attacktype2_txt, attacktype3, attacktype3_txt, targtype1, targtype1_txt, targsubtype1, targsubtype1_txt, corp1, target1, natlty1, natlty1_txt, targtype2, targtype2_txt, targsubtype2, targsubtype2_txt, corp2, target2, natlty2, natlty2_txt, targtype3, targtype3_txt, targsubtype3, targsubtype3_txt, corp3, target3, natlty3, natlty3_txt, gname, gsubname, gname2, gsubname2, gname3, gsubname3, motive, guncertain1, guncertain2, guncertain3, individual, nperps, nperpcap, claimed, claimmode, claimmode_txt, claim2, claimmode2, claimmode2_txt, claim3, claimmode3, claimmode3_txt, compclaim, weaptype1, weaptype1_txt, weapsubtype1, weapsubtype1_txt, weaptype2, weaptype2_txt, weapsubtype2, weapsubtype2_txt, weaptype3, weaptype3_txt, weapsubtype3, weapsubtype3_txt, weaptype4, weaptype4_txt, weapsubtype4, weapsubtype4_txt, weapdetail, nkill, nkillus, ...]\n",
            "Index: []\n"
          ]
        }
      ],
      "source": [
        "#!Revisar eventos repetidos, esto da igual pk va to a la basura\n",
        "valores_duplicados = data[data.duplicated(subset='eventid', keep = False)]\n",
        "print(f\"Valores duplicados: {valores_duplicados}\")"
      ]
    },
    {
      "cell_type": "markdown",
      "metadata": {
        "id": "Dvg9cZJFcod0"
      },
      "source": [
        "Tras comprobar si encontramos valores repetidos toca comprobar los valores nulos de cada columna del dataset"
      ]
    },
    {
      "cell_type": "code",
      "execution_count": null,
      "metadata": {
        "id": "rHD6hFfFcod1"
      },
      "outputs": [],
      "source": [
        "pd.set_option('display.max_columns', None)\n",
        "pd.set_option('display.max_rows', None)\n",
        "\n",
        "# Valores nulos por columna\n",
        "valores_nulos = data.isnull().sum()\n",
        "print(f\"Número de valores nulos por columna:\\n{valores_nulos}\")"
      ]
    },
    {
      "cell_type": "markdown",
      "metadata": {
        "id": "SqjUpnuNcod1"
      },
      "source": [
        "A continuación, procedemos a eliminar la columna eventID debido a que solo sirve como identificador y hemos verificado que no contiene valores duplicados. Además de esta columna hemos identificado otras columnas que vamos a eliminar debido a la gran cantidad de valores perdidos que ocupan y de su baja relevancia para nuestro análisis"
      ]
    },
    {
      "cell_type": "code",
      "execution_count": null,
      "metadata": {
        "id": "PGRIht1Ncod1"
      },
      "outputs": [],
      "source": [
        "#Listado de columnas a eliminar\n",
        "eliminar_columnas = [\n",
        "    'specificity', 'multiple',\"individual\", 'target1', 'propvalue', 'corp1', 'longitude', 'latitude',\n",
        "     'specifity', 'vicinity', 'doubtterr',\n",
        "    'weapsubtype1_txt', 'nperps', 'nperpcap', 'claimed', 'nkillter', 'nwoundte',\n",
        "    'eventid', 'location', 'summary', 'alternative', 'alternative_txt', 'attacktype2', 'attacktype2_txt',\n",
        "    'attacktype3', 'attacktype3_txt', 'targtype2', 'targtype2_txt', 'targsubtype2', 'targsubtype2_txt',\n",
        "    'corp2', 'target2', 'natlty2', 'natlty2_txt', 'targtype3', 'targtype3_txt', 'targsubtype3',\n",
        "    'targsubtype3_txt', 'corp3', 'target3', 'natlty3', 'natlty3_txt', 'gsubname', 'gname2', 'gsubname2',\n",
        "    'gname3', 'gsubname3', 'guncertain2', 'guncertain3', 'claim2', 'claimmode2', 'claimmode2_txt',\n",
        "    'claim3', 'claimmode3', 'claimmode3_txt', 'compclaim', 'weaptype2', 'weaptype2_txt', 'weapsubtype2',\n",
        "    'weapsubtype2_txt', 'weaptype3', 'weaptype3_txt', 'weapsubtype3', 'weapsubtype3_txt', 'weaptype4',\n",
        "    'weaptype4_txt', 'weapsubtype4', 'weapsubtype4_txt','addnotes', 'scite1', 'scite2', 'scite3', 'propextent',\n",
        "    'propextent_txt', 'ransomamt', 'ransomamtus', 'ransompaid',\n",
        "    'ransompaidus', 'extended', 'country', 'region', 'crit1',\n",
        "    'crit2', 'crit3', 'attacktype1', 'targtype1', 'targsubtype1',\n",
        "    'natlty1', 'motive', 'guncertain1', 'weaptype1',\n",
        "    'weapsubtype1', 'weapdetail', 'nkillus', 'nwoundus',\n",
        "    'nhostkidus', 'divert', 'ransomnote', 'hostkidoutcome',\n",
        "    'hostkidoutcome_txt', 'dbsource', 'related', 'propcomment','approxdate',\n",
        "    'resolution', 'targsubtype1_txt','claimmode','claimmode_txt',\n",
        "    'nhostkid','nhours','ndays','kidhijcountry','ransom','nreleased', 'INT_ANY', 'INT_MISC'\n",
        "    ]\n",
        "\n",
        "#Eliminamos las columnas sobrantes\n",
        "data = data.drop(columns = eliminar_columnas, errors = 'ignore')\n",
        "\n",
        "#Volvemos a imprimir el dataset para verificar las nuevas columnas\n",
        "data.head()\n"
      ]
    },
    {
      "cell_type": "markdown",
      "metadata": {
        "id": "WH1GSn3pcod2"
      },
      "source": [
        "Tras eliminar las columnas innecesarias optimizamos las que tenemos, vamos a unir las columnas iyear,imonth e iday en 1 sola y además procedemos a renombrar las restantes para un mejor entendimiento"
      ]
    },
    {
      "cell_type": "code",
      "execution_count": null,
      "metadata": {
        "id": "m9koBGxXcod2"
      },
      "outputs": [],
      "source": [
        "fecha = data[['iyear', 'imonth', 'iday']]\n",
        "\n",
        "def valores_unicos(data, columnas):\n",
        "    \"\"\"\n",
        "    Esta funcion nos permite obtener los valores unicos de las columnas indicadas.\n",
        "\n",
        "    Parámetros:\n",
        "    data: El dataset que contiene los datos.\n",
        "    columnas(list): Lista de nombres de las columnas que vamos a obtener valores unicos\n",
        "\n",
        "    Devuelve:\n",
        "    Un dataset que contiene las columnas especificadas y solo los valores unicos de cada una\n",
        "    \"\"\"\n",
        "\n",
        "    data_unicos = data[columnas].drop_duplicates()\n",
        "    return data_unicos\n",
        "\n",
        "data = pd.DataFrame(data)\n",
        "columnas_unicas = valores_unicos(data, ['iyear', 'imonth', 'iday'])\n",
        "\n",
        "print(columnas_unicas)"
      ]
    },
    {
      "cell_type": "markdown",
      "metadata": {
        "id": "pakttNkvcod2"
      },
      "source": [
        "Podemos apreciar que hay valores \"0\" en la columna de imonth y iday, segun la documentacion encontrada online, entendemos que para los casos en los cuales no se tiene el dato certero o no ha recopilado el valor usado es \"0\". Procederemos con la sustitución de los valores \"0\" con la mediana, ya que proporciona una medida de tendencia central más robusta.\n",
        "\n",
        "Dado esto, vamos a sustituir los valores \"0\" por la mediana"
      ]
    },
    {
      "cell_type": "code",
      "execution_count": null,
      "metadata": {
        "id": "W8v1l57Gcod3"
      },
      "outputs": [],
      "source": [
        "mediana_iday = data['iday'].median()\n",
        "mediana_imonth = data['imonth'].median()\n",
        "\n",
        "data['iday'] = data['iday'].replace(0, mediana_iday)\n",
        "data['imonth'] = data['imonth'].replace(0, mediana_imonth)"
      ]
    },
    {
      "cell_type": "markdown",
      "metadata": {
        "id": "U9AwjTlOcod3"
      },
      "source": [
        "Tras sustituir estos valores es hora de reemplazar estas 3 columnas y unificarlas todas en 1 sola"
      ]
    },
    {
      "cell_type": "code",
      "execution_count": null,
      "metadata": {
        "id": "5v6A0Kgucod3"
      },
      "outputs": [],
      "source": [
        "data['date'] = pd.to_datetime(data[['iday', 'imonth', 'iyear']].rename(columns={'iyear': 'year', 'imonth': 'month', 'iday': 'day'}), format='%d-%m-%Y')\n",
        "\n",
        "#Tras la sustitucion eliminamos las 3 columnas usadas y volvemos a imprimir el dataset para comprobar\n",
        "data.drop(['iyear', 'imonth', 'iday'], axis=1, inplace=True)\n",
        "data.head()"
      ]
    },
    {
      "cell_type": "markdown",
      "metadata": {
        "id": "zjOmyJxgR0pK"
      },
      "source": [
        "**ANALISIS DE ATAQUES SUICIDAS EN EL** **TIEMPO** bold text"
      ]
    },
    {
      "cell_type": "code",
      "execution_count": null,
      "metadata": {
        "id": "KaLofS-hRx9L"
      },
      "outputs": [],
      "source": [
        "# VAmos a ver los ataques suicidas en particular, primero por ano\n",
        "data['year'] = data['date'].dt.year\n",
        "# filtrmaos solo suicidas\n",
        "suicide_attacks = data[data['suicide'] == 1]\n",
        "# Agregar los datos por ano\n",
        "yearly_suicide_attacks = suicide_attacks.groupby('year').size().reset_index(name='count')\n",
        "# show\n",
        "print(yearly_suicide_attacks)"
      ]
    },
    {
      "cell_type": "markdown",
      "metadata": {
        "id": "jpBG1UQYTBGQ"
      },
      "source": [
        "Se puede comprobar la importancia de estudiar en profundidad los ataques suicidas pues hay un gran incremento del numero de casos en los ultimos años."
      ]
    },
    {
      "cell_type": "code",
      "execution_count": null,
      "metadata": {
        "id": "OlGttHYPSDOx"
      },
      "outputs": [],
      "source": [
        "#VAMOS A GRAFICAR   ATAQUES SUICIDE\n",
        "import matplotlib.pyplot as plt\n",
        "plt.figure(figsize=(10, 6))\n",
        "plt.plot(yearly_suicide_attacks['year'], yearly_suicide_attacks['count'], marker='o')\n",
        "plt.title('Suicide Attacks per Year')\n",
        "plt.xlabel('Year')\n",
        "plt.ylabel('Number of Suicide Attacks')\n",
        "plt.grid(True)\n",
        "plt.show()"
      ]
    },
    {
      "cell_type": "markdown",
      "metadata": {
        "id": "5y26JRVYburC"
      },
      "source": [
        "Podemos ver que el primer ataque suicida registrado en el dataset data de 1981 (los registros inician en 1970), por lo que el uso de este tipo de tactica se comienza a registrar recien en el mencionado año.\n",
        "Desde el año 2000, se observa un incremento notable, con un incremento de 37 en 2000 a 51 en 2001. Entendemos que este incremento puede estar vinculado al 9/11 y sus repercusiones. Facilmente podemos distinguir el crecimiento constante de los ataques, con un pico de 985 en 2016. El numero de ataques disminuye ligeramente en 2017, siendo el primer año en que la tendencia es negativa (analizando desde 2010).  \n",
        "El metodo suicida se ha vuelto atractivo para los grupos terroristas debido a su efectividad para generar panico, obtener visibilidad de su causa y cumplir con sus objetivos (ideologicos, politicos).\n"
      ]
    },
    {
      "cell_type": "markdown",
      "metadata": {
        "id": "rNMjNCYtSap-"
      },
      "source": [
        "TIMESERIES CON PROPHET\n",
        " **Usaremso el modelo prophet de facebook**\n",
        "https://facebook.github.io/prophet/docs/quick_start.html#python-api"
      ]
    },
    {
      "cell_type": "code",
      "execution_count": null,
      "metadata": {
        "id": "S7-z_gNjShzY"
      },
      "outputs": [],
      "source": [
        "!pip install prophet\n",
        "import pandas as pd\n",
        "import matplotlib.pyplot as plt\n",
        "from prophet import Prophet"
      ]
    },
    {
      "cell_type": "code",
      "execution_count": null,
      "metadata": {
        "id": "_rIj7Ng1SiUU"
      },
      "outputs": [],
      "source": [
        "#tomamos la lista ya creada de ataques suicidas por año y cambiamos nombre de col para Propeht\n",
        "df = yearly_suicide_attacks.rename(columns={'year': 'ds', 'count': 'y'})\n",
        "\n",
        "# Convertir el año a datetime\n",
        "df['ds'] = pd.to_datetime(df['ds'], format='%Y')\n",
        "\n",
        "# Verificar el DataFrame\n",
        "print(df) #convertir a datetime"
      ]
    },
    {
      "cell_type": "code",
      "execution_count": null,
      "metadata": {
        "id": "5UUTYujCSn5o"
      },
      "outputs": [],
      "source": [
        "#creamos y entrenamos\n",
        "modelo = Prophet(yearly_seasonality=True)\n",
        "modelo.fit(df)\n",
        "\n",
        "#se crea dataframe que guarda las fecahs futuras y hacemeos la prediccion --- 10 años\n",
        "future = modelo.make_future_dataframe(periods=10, freq='Y')\n",
        "forecast = modelo.predict(future)\n",
        "\n",
        "#graficamos\n",
        "fig1 = modelo.plot(forecast)\n",
        "plt.title('Predicción de Ataques Suicidas para los Próximos 10 años')\n",
        "plt.xlabel('Año')\n",
        "plt.ylabel('Número de Ataques Suicidas')\n",
        "plt.show()"
      ]
    },
    {
      "cell_type": "code",
      "execution_count": null,
      "metadata": {
        "id": "nCWvLa5MSr6o"
      },
      "outputs": [],
      "source": [
        "print(forecast[['ds', 'yhat', 'yhat_lower', 'yhat_upper']].tail(10)) #IMPRIMIMOS EL FORECAST"
      ]
    },
    {
      "cell_type": "markdown",
      "metadata": {
        "id": "QvMxYJclhb09"
      },
      "source": [
        "El modelo y su prediccion sugieren una tendencia continua de incremento en la actividad de ataques suicidas en el futuro cercano, acompanado de los intervalos de confianza que reflejan la incertidumbre inherente a las predicciones. Los numeros pueden cambiar bruscamente si los grupos implementan metodos aun mas mortiferos o por el contrario, si las medidas de seguridad y prevención se vuelven mas duras."
      ]
    },
    {
      "cell_type": "markdown",
      "metadata": {
        "id": "FhbmrT28jSap"
      },
      "source": [
        "Elegir los datos de los últimos tres años en el dataset de terrorismo global tiene tanto ventajas como inconvenientes:\n",
        "\n",
        "Ventajas:\n",
        "\n",
        "Relevancia Actual:\n",
        "\n",
        "**Tendencias Recientes: Los datos más recientes reflejan las tendencias y patrones actuales del terrorismo, lo cual puede ser crucial para la toma de decisiones y políticas actuales.\n",
        "Cambios en Tácticas: Las tácticas, objetivos y métodos de los grupos terroristas pueden cambiar con el tiempo. Usar datos recientes ayuda a capturar estas evoluciones.\n",
        "Datos Más Consistentes:\n",
        "\n",
        "*Mejora en la Recolección de Datos: La calidad de los datos y las metodologías de recolección pueden haber mejorado con el tiempo, haciendo que los datos recientes sean más precisos y completos.\n",
        "Contexto Político Actual:\n",
        "\n",
        "*Políticas y Eventos Recientes: Los datos recientes tienen más relevancia en el contexto de las políticas y eventos geopolíticos actuales. Esto puede ser vital para análisis específicos y respuestas rápidas.\n",
        "\n",
        "Inconvenientes:\n",
        "\n",
        "Volumen de Datos Reducido:\n",
        "\n",
        "*Menor Cantidad de Datos: Utilizar solo los últimos tres años reduce significativamente la cantidad de datos disponibles, lo cual puede afectar la robustez de los modelos estadísticos y de machine learning.\n",
        "Menor Diversidad de Casos: Con menos datos, hay menos variabilidad en los casos de estudio, lo que podría limitar la capacidad de generalización del análisis.\n",
        "Perdida de Tendencias a Largo Plazo:\n",
        "\n",
        "*Análisis de Tendencias a Largo Plazo: No se pueden identificar ni analizar tendencias a largo plazo o ciclos en la actividad terrorista, lo cual puede ser importante para comprender el fenómeno en su totalidad.\n",
        "\n",
        "*Estabilidad de Patrones: Algunas conclusiones importantes sobre la estabilidad o los cambios graduales en los patrones de terrorismo pueden perderse.\n",
        "\n",
        "*Sesgo Temporal:\n",
        "\n",
        "Eventos Recientes Pueden Ser Atípicos: Los últimos años pueden incluir eventos excepcionales (por ejemplo, cambios abruptos debido a una pandemia global) que podrían sesgar los análisis y no reflejar patrones típicos a largo plazo.\n",
        "\n",
        "*Falta de Contexto Histórico: Sin datos históricos, es difícil contextualizar eventos recientes y entender si son parte de una tendencia mayor o simplemente anomalías.\n",
        "\n",
        "Ya que el objetivo es predecir futuros ataques basándose en tácticas y patrones recientes, los datos recientes son más apropiados.\n",
        "Otro método posterior a utilizar seria donde se empleen datos recientes para capturar tendencias actuales, complementados con datos históricos para asegurar robustez y contexto histórico."
      ]
    },
    {
      "cell_type": "code",
      "execution_count": null,
      "metadata": {
        "id": "YkomXp4cd3CU"
      },
      "outputs": [],
      "source": [
        "# Filtrar los datos para los años 2015, 2016 y 2017\n",
        "data_2015 = data[(data['date'].dt.year >= 2015) & (data['date'].dt.year <= 2017)]\n",
        "\n",
        "# Verificar el resultado\n",
        "print(data_2015.head())\n",
        "print(data_2015['date'].dt.year.unique())"
      ]
    },
    {
      "cell_type": "code",
      "execution_count": null,
      "metadata": {
        "id": "OwzmIHZjsC0N"
      },
      "outputs": [],
      "source": [
        "data_2015.shape"
      ]
    },
    {
      "cell_type": "markdown",
      "metadata": {
        "id": "dbSSpVZcsLOo"
      },
      "source": [
        "Ahora pasamos a tener casi 40.000 filas y 19 columnas."
      ]
    },
    {
      "cell_type": "code",
      "execution_count": null,
      "metadata": {
        "id": "VbrsWw7jUVGG"
      },
      "outputs": [],
      "source": [
        "# Obtener los valores únicos de la columna 'nkill' y ordenarlos en orden descendente\n",
        "unique_nkill_sorted = data_2015['nkill'].dropna().unique()\n",
        "unique_nkill_sorted.sort()\n",
        "top_25_nkill = unique_nkill_sorted[-25:]\n",
        "\n",
        "# Crear un diccionario para almacenar los valores más altos de 'nkill' y sus fechas asociadas\n",
        "top_25_nkill_dates = {}\n",
        "\n",
        "# Rellenar el diccionario con los valores únicos y sus fechas asociadas\n",
        "for value in top_25_nkill:\n",
        "    dates = data_2015.loc[data_2015['nkill'] == value, 'date']\n",
        "    top_25_nkill_dates[value] = dates.unique()\n",
        "\n",
        "# Mostrar los resultados\n",
        "for nkill_value, dates in top_25_nkill_dates.items():\n",
        "    print(f\"nkill: {nkill_value}\")\n",
        "    for date in dates:\n",
        "        print(f\"  Date: {date}\")"
      ]
    },
    {
      "cell_type": "code",
      "execution_count": null,
      "metadata": {
        "id": "bf16dClXWP3E"
      },
      "outputs": [],
      "source": [
        "# Obtener la primera y la última fecha\n",
        "min_date = data_2015['date'].min()\n",
        "max_date = data_2015['date'].max()\n",
        "\n",
        "# Mostrar los resultados\n",
        "print(f\"La primera fecha es: {min_date}\")\n",
        "print(f\"La última fecha es: {max_date}\")"
      ]
    },
    {
      "cell_type": "markdown",
      "metadata": {
        "id": "oWLAmt6oebhu"
      },
      "source": [
        "#Analisis variables categóricas"
      ]
    },
    {
      "cell_type": "markdown",
      "metadata": {
        "id": "7k2N_Z5ecod3"
      },
      "source": [
        "El primer análisis se centrará en las variables categóricas. Primero identificaremos cuáles son estas variables y luego contaremos el número de instancias únicas en cada una para analizarlas visualmente a través de bar plots"
      ]
    },
    {
      "cell_type": "code",
      "execution_count": null,
      "metadata": {
        "id": "jkCqegzMcod3"
      },
      "outputs": [],
      "source": [
        "'variables_cat = data_2015.select_dtypes(include=['object']).columns\n",
        "\n",
        "print(\"Variables categóricas y sus valores únicos:\")\n",
        "for var in variables_cat:\n",
        "    unique_values = data_2015[var].nunique()\n",
        "    print(f\"{var}: {unique_values} valores únicos\")"
      ]
    },
    {
      "cell_type": "code",
      "execution_count": null,
      "metadata": {
        "id": "zZiz7wJJoaie"
      },
      "outputs": [],
      "source": [
        "\n",
        "unique_attacktype1_txt = data['attacktype1_txt'].unique()\n",
        "unique_weaptype1_txt = data['weaptype1_txt'].unique()\n",
        "unique_targtype1_txt = data['targtype1_txt'].unique()\n",
        "\n",
        "# Mostrar los valores únicos\n",
        "print(\"Valores únicos de 'attacktype1_txt':\")\n",
        "print(unique_attacktype1_txt)\n",
        "\n",
        "print(\"\\nValores únicos de 'weaptype1_txt':\")\n",
        "print(unique_weaptype1_txt)\n",
        "\n",
        "print(\"\\nValores únicos de 'targtype1_txt':\")\n",
        "print(unique_targtype1_txt)\n"
      ]
    },
    {
      "cell_type": "markdown",
      "metadata": {
        "id": "-tPvIpQScod4"
      },
      "source": [
        "Como podemos ver, algunas variables tienen demasiados valores únicos para mostrarlos adecuadamente con un bar plot. Mostraremos las 15 principales categorías en cada caso para que sea visualmente legible y analizable"
      ]
    },
    {
      "cell_type": "code",
      "execution_count": null,
      "metadata": {
        "id": "LN042Sa5je3F"
      },
      "outputs": [],
      "source": [
        "\n",
        "print(data_2015['date'].dt.year.unique())"
      ]
    },
    {
      "cell_type": "code",
      "execution_count": null,
      "metadata": {
        "id": "jKRXp3aocod4"
      },
      "outputs": [],
      "source": [
        "# modificamos los nombres de las variables para los graficos\n",
        "import matplotlib.pyplot as plt\n",
        "title_mapping = {\n",
        "    'city': 'Ciudades donde ocurrieron los incidentes',\n",
        "    'country_txt': 'Países donde ocurrieron los incidentes',\n",
        "    'region_txt': 'Regiones donde ocurrieron los incidentes',\n",
        "    'targtype1_txt': 'Tipos de objetivo',\n",
        "    'corp1': 'Nombre de entidades objetivo',\n",
        "    'natlty1_txt': 'Nacionalidad de los objetivos principales',\n",
        "    'attacktype1_txt': 'Tipos de ataque',\n",
        "    'weaptype1_txt': 'Tipos de armas utilizadas en el ataque',\n",
        "    'gname': 'Nombres de grupos terroristas',\n",
        "}\n",
        "\n",
        "data_2015_suicide = data[(data['date'].dt.year >= 2015) & (data['date'].dt.year <= 2017) & (data['suicide'] == 1)]\n",
        "\n",
        "# Seleccionamos las columnas categóricas\n",
        "categorical_variables = data_2015_suicide.select_dtypes(include=['object']).columns\n",
        "\n",
        "# Graficos de barra para poder ver nuestras variables\n",
        "for var in categorical_variables:\n",
        "    if var in data_2015_suicide.columns:\n",
        "        plt.figure(figsize=(10, 6))\n",
        "        top_10_counts = data_2015_suicide[var].value_counts().nlargest(10)\n",
        "\n",
        "        # Truncamos los nombres a 30 caracteres para que se pueda leer\n",
        "        top_10_counts.index = top_10_counts.index.str[:30]\n",
        "        top_10_counts.plot(kind='bar', color='grey')\n",
        "\n",
        "        title = title_mapping.get(var, var)\n",
        "        plt.title(f'Top 10: {title}')\n",
        "\n",
        "        plt.xlabel(var)\n",
        "        plt.ylabel('Frecuencia')\n",
        "        plt.xticks(rotation=45, ha='right')\n",
        "        plt.tight_layout()\n",
        "        plt.show()"
      ]
    },
    {
      "cell_type": "markdown",
      "metadata": {
        "id": "GSI6LWcmo48U"
      },
      "source": [
        "###ANALISIS DE GRAFICOS"
      ]
    },
    {
      "cell_type": "markdown",
      "metadata": {
        "id": "5j2HqyBScod4"
      },
      "source": [
        "Podemos ver que Iraq es donde ocurrieron la mayoría de los ataques suicidas, con casi 1200, seguido por Afganistán y Nigeria  (ambos alrededor de 400 y 300 respectivamente). Esto concuerda con lo mostrado en el gráfico de regiones,  estados, ciudades). Las provincias de Al Anbar y Nineveh (Iraq) son las mas afectadas por este tipo de ataques, seguidas por Borno (Nigeria).\n",
        "\n",
        "Tipos de Ataques y armas:\n",
        "Mas de 2500 ataques fueron perpetrados con bombas o explosiones.  Hay significativamente menos casos de  armas de fuego, toma de rehenes y ataques a instalaciones. También hubo pocos asaltos sin armas y secuestros.\n",
        "\n",
        "Tipos de Objetivos:\n",
        "Al observar los tipos de objetivos, vemos que más de 800 afectaron a objetivos militares, seguido por mas de 400 a ciudades y propiedades, y alrededor de 400 a policías. Hay pocos casos de estaciones diplomáticas, transportes, etc.\n",
        "\n",
        "Grupos Terroristas:\n",
        "ISIL/ISIS (Iraq) es el grupo que mas ataques suicida ha cometido.  Hay alrededor de 500 casos para los cuales se desconoce el grupo terrorista al que pertenecía/n los atacantes. Boko Haram (Nigeria) sigue en la lista con alrededor de 400 ataques suicidas — este grupo también es conocido como ISIS WA (West Africa). Los talibanes (Afganistán) aparecen en cuarto lugar con alrededor de 200 incidentes suicidas.\n"
      ]
    },
    {
      "cell_type": "markdown",
      "metadata": {
        "id": "yteoTZzqcod4"
      },
      "source": [
        "A continuacion, graficamos histogramas para las variables categoricas que tienen pocos unique values, a saber en este caso, SI, NO y Desconocido"
      ]
    },
    {
      "cell_type": "code",
      "execution_count": null,
      "metadata": {
        "id": "Qou4tDKccod4"
      },
      "outputs": [],
      "source": [
        "# List of binary/categorical columns\n",
        "binary_cols = ['success', 'property','ishostkid','INT_LOG', 'INT_IDEO']\n",
        "\n",
        "\n",
        "# Mapeo de títulos\n",
        "title_mapping2 = {\n",
        "    'success': 'Ataque fue exitoso',\n",
        "    'property': 'Propiedad dañada',\n",
        "    'ishostkid': 'Rehenes',\n",
        "    'INT_LOG': 'Ataque logístico internacional',\n",
        "    'INT_IDEO': 'Ataque ideológico internacional',\n",
        "}\n",
        "\n",
        "# Para que aparezcan codifico los valores\n",
        "value_mapping = {\n",
        "    -9: 'Desconocido',\n",
        "    0: 'No',\n",
        "    1: 'Sí'\n",
        "}\n",
        "\n",
        "# Plot histograms for binary/categorical columns\n",
        "for col in binary_cols:\n",
        "    plt.figure(figsize=(10, 6))\n",
        "    # Mapear los valores numéricos a etiquetas antes de trazar el histograma\n",
        "    mapped_data = data_2015_suicide[col].map(value_mapping)\n",
        "    mapped_data.value_counts().plot(kind='bar', color='grey')\n",
        "\n",
        "    # Usar el título mapeado si está disponible, de lo contrario usar el nombre original de la variable\n",
        "    title1 = title_mapping2.get(col, col)\n",
        "    plt.title(f'Grafico de {title1}')\n",
        "    plt.xlabel(col)\n",
        "    plt.ylabel('Frecuencia')\n",
        "    plt.xticks(rotation=45, ha='right')\n",
        "    plt.tight_layout()\n",
        "    plt.show()"
      ]
    },
    {
      "cell_type": "markdown",
      "metadata": {
        "id": "NbzIPqPZ2IJ4"
      },
      "source": [
        "**Vamos a analizar las variables binarias**.\n",
        "Comenzamos por el éxito o no del ataque. Vemos que 2000 de los ataques fueron exitosos, mientras mas de 700 no lo fueron. Esto se remite a que por ejemplo, un ataque con bombas o explosivos pudo haber sucedido sin haber causado muertes, heridos o danos a la propiedad.\n",
        "Analizando el daño a la propiedad, observamos que en mas de 1200 de los incidentes no hubo daños material a la propiedad, mientras que en menos de 800 casos si hubo (este dato es consistente con el de suceso del ataque). Hay poco mas de 600 casos donde el daño a la propiedad es desconocido.\n",
        "En casi 100% de los casos no hubo rehenes retenidos.\n",
        "Yendo al dato logístico del ataque, vemos que 2000 de los mismo han sucedido domésticamente, es decir,  los perpetradores no han cruzado fronteras para llevar a cabo el ataque.\n"
      ]
    },
    {
      "cell_type": "markdown",
      "metadata": {
        "id": "p1czcoZVm7wd"
      },
      "source": []
    },
    {
      "cell_type": "code",
      "execution_count": null,
      "metadata": {
        "id": "use-DvQO3X5i"
      },
      "outputs": [],
      "source": [
        "#Convertir -9 desconocido, 0 a NO y 1 a SI\n",
        "columns_to_convert = ['success', 'suicide', 'property', 'ishostkid', 'INT_LOG', 'INT_IDEO']\n",
        "\n",
        "def convert_values(value):\n",
        "    if value == -9:\n",
        "        return 'Desconocido'\n",
        "    elif value == 1:\n",
        "        return 'Sí'\n",
        "    elif value == 0:\n",
        "        return 'No'\n",
        "    else:\n",
        "        return value\n",
        "\n",
        "\n",
        "# Convertimos las columnas especificadas\n",
        "for column in columns_to_convert:\n",
        "    data_2015[column] = data_2015[column].apply(convert_values)\n",
        "\n",
        "print(data_2015.head())"
      ]
    },
    {
      "cell_type": "markdown",
      "metadata": {
        "id": "D0KUrLQScod4"
      },
      "source": [
        "#Analisis variables numericas"
      ]
    },
    {
      "cell_type": "markdown",
      "metadata": {
        "id": "3xehEfzIcod5"
      },
      "source": [
        "# Ingenieria caracterisiticas"
      ]
    },
    {
      "cell_type": "code",
      "execution_count": null,
      "metadata": {
        "id": "UPjxawF9cod5"
      },
      "outputs": [],
      "source": [
        "data_2015.describe()"
      ]
    },
    {
      "cell_type": "code",
      "execution_count": null,
      "metadata": {
        "id": "cUrwe1HJZmEc"
      },
      "outputs": [],
      "source": [
        "data_2015.columns\n"
      ]
    },
    {
      "cell_type": "code",
      "execution_count": null,
      "metadata": {
        "id": "d52qfXUcb-Ao"
      },
      "outputs": [],
      "source": [
        "data.info()"
      ]
    },
    {
      "cell_type": "code",
      "execution_count": null,
      "metadata": {
        "id": "Sn5nmzoXcod5"
      },
      "outputs": [],
      "source": [
        "variables = ['country_txt', 'region_txt', 'provstate', 'city', 'success', 'suicide',\n",
        "       'attacktype1_txt', 'targtype1_txt', 'natlty1_txt', 'gname',\n",
        "       'weaptype1_txt', 'nkill', 'nwound', 'property', 'ishostkid', 'INT_LOG',\n",
        "       'INT_IDEO', 'date', 'year']\n",
        "\n",
        "# Convertir variables categóricas a numéricas\n",
        "categorical_vars = ['country_txt', 'region_txt', 'provstate', 'city', 'success', 'suicide',\n",
        "       'attacktype1_txt', 'targtype1_txt', 'natlty1_txt', 'gname',\n",
        "       'weaptype1_txt', 'property', 'ishostkid', 'INT_LOG',\n",
        "       'INT_IDEO']\n",
        "\n",
        "for var in categorical_vars:\n",
        "    data_2015[var + '_num'] = pd.factorize(data_2015[var])[0]\n",
        "\n",
        "# Filtrar solo las columnas numéricas\n",
        "numeric_variables = [var for var in data_2015.columns if var in variables or var.endswith('_num')]\n",
        "numeric_variables = [var for var in numeric_variables if pd.api.types.is_numeric_dtype(data_2015[var])]\n",
        "\n",
        "# Definir el tamaño de la figura\n",
        "plt.figure(figsize=(20, 40))\n",
        "\n",
        "# Calcular el número de filas y columnas\n",
        "num_vars = len(numeric_variables)\n",
        "cols = 5\n",
        "rows = (num_vars // cols) + 1\n",
        "\n",
        "# Crear subplots\n",
        "fig, axes = plt.subplots(rows, cols, figsize=(20, 40))\n",
        "axes = axes.flatten()\n",
        "\n",
        "for i, var in enumerate(numeric_variables):\n",
        "    sns.boxplot(data_2015[var], ax=axes[i])\n",
        "    axes[i].set_title(var)\n",
        "\n",
        "# Eliminar subplots vacíos\n",
        "for j in range(i + 1, len(axes)):\n",
        "    fig.delaxes(axes[j])\n",
        "\n",
        "# Ajustar layout\n",
        "plt.tight_layout()\n",
        "plt.show()"
      ]
    },
    {
      "cell_type": "markdown",
      "metadata": {
        "id": "wrmLu5eNcod5"
      },
      "source": [
        "Tras graficas todas las columnas calculamos los límites de los outliers para determinar que valores están fuera de rango"
      ]
    },
    {
      "cell_type": "code",
      "execution_count": null,
      "metadata": {
        "id": "y2tw6t_Pcod5"
      },
      "outputs": [],
      "source": [
        "def calculate_outliers_limits(data_2015, column):\n",
        "    stats = data_2015[column].describe()\n",
        "    iqr = stats[\"75%\"] - stats[\"25%\"]\n",
        "    upper_limit = stats[\"75%\"] + 1.5 * iqr\n",
        "    lower_limit = stats[\"25%\"] - 1.5 * iqr\n",
        "    return upper_limit, lower_limit, iqr\n",
        "\n",
        "# Iterar sobre las columnas numéricas y calcular los límites\n",
        "outliers_limits = {}\n",
        "\n",
        "for col in numeric_variables:\n",
        "    upper, lower, iqr = calculate_outliers_limits(data_2015, col)\n",
        "    outliers_limits[col] = {\n",
        "        \"upper_limit\": round(upper, 2),\n",
        "        \"lower_limit\": round(lower, 2),\n",
        "        \"iqr\": round(iqr, 2)\n",
        "    }\n",
        "\n",
        "# Mostrar los resultados\n",
        "for col, limits in outliers_limits.items():\n",
        "    print(f\"Límites para la variable {col}:\")\n",
        "    print(f\"  - Límite superior: {limits['upper_limit']}\")\n",
        "    print(f\"  - Límite inferior: {limits['lower_limit']}\")\n",
        "    print(f\"  - Rango intercuartílico: {limits['iqr']}\")\n",
        "    print()"
      ]
    },
    {
      "cell_type": "code",
      "execution_count": null,
      "metadata": {
        "id": "pPS5Pt9kcod5"
      },
      "outputs": [],
      "source": [
        "# Función para reemplazar outliers con la mediana\n",
        "def replace_outliers_with_median(data_2015, column, lower_bound, upper_bound):\n",
        "    median = data_2015[column].median()\n",
        "    data_2015[column] = data_2015[column].apply(lambda x: median if x < lower_bound or x > upper_bound else x)\n",
        "\n",
        "# Tratamiento de datos atípicos\n",
        "replace_outliers_with_median(data_2015, 'nkill', -3.0, 5.0)\n",
        "replace_outliers_with_median(data_2015, 'nwound', -3.0, 5.0)\n",
        "replace_outliers_with_median(data_2015, 'country_txt_num', -55.0, 161.0)\n",
        "replace_outliers_with_median(data_2015, 'region_txt_num', -2.5, 17.5)\n",
        "replace_outliers_with_median(data_2015, 'provstate_num', -938.5, 2097.5)\n",
        "replace_outliers_with_median(data_2015, 'city_num', -23125.0, 40171.0)\n",
        "replace_outliers_with_median(data_2015, 'attacktype1_txt_num', -1.0, 7.0)\n",
        "replace_outliers_with_median(data_2015, 'targtype1_txt_num', -9.5, 18.5)\n",
        "replace_outliers_with_median(data_2015, 'natlty1_txt_num', -37.5, 142.5)\n",
        "replace_outliers_with_median(data_2015, 'gname_num', -2185.0, 3647.0)\n",
        "replace_outliers_with_median(data_2015, 'weaptype1_txt_num', -2.0, 6.0)\n",
        "\n",
        "# El tratamiento de datos atípicos en variables binarias ya no sería necesario pues solo hay valores si, no y desconocido en su defecto\n",
        "\n",
        "# Verificación final\n",
        "print(\"Tratamiento de datos atípicos completado.\")\n",
        "print(data_2015.describe())\n"
      ]
    },
    {
      "cell_type": "code",
      "execution_count": null,
      "metadata": {
        "id": "mj1VGVy6cod6"
      },
      "outputs": [],
      "source": [
        "data_2015.shape"
      ]
    },
    {
      "cell_type": "code",
      "execution_count": null,
      "metadata": {
        "id": "tFvqqEQT9lQe"
      },
      "outputs": [],
      "source": [
        "data_2015.columns"
      ]
    },
    {
      "cell_type": "code",
      "execution_count": null,
      "metadata": {
        "id": "yK5XDma2AvrL"
      },
      "outputs": [],
      "source": [
        "# Lista de columnas a eliminar\n",
        "columnas_a_eliminar = ['country_txt', 'region_txt', 'provstate', 'city', 'success', 'suicide',\n",
        "                       'attacktype1_txt', 'targtype1_txt', 'natlty1_txt', 'gname',\n",
        "                       'weaptype1_txt', 'property', 'ishostkid', 'INT_LOG',\n",
        "                       'INT_IDEO', 'date', 'year']\n",
        "\n",
        "# Eliminar las columnas del DataFrame\n",
        "data_2015 = data_2015.drop(columns=columnas_a_eliminar)\n",
        "\n"
      ]
    },
    {
      "cell_type": "code",
      "execution_count": null,
      "metadata": {
        "id": "4dR8EuCrBErQ"
      },
      "outputs": [],
      "source": [
        "print(data_2015.columns)"
      ]
    },
    {
      "cell_type": "code",
      "execution_count": null,
      "metadata": {
        "id": "1nqBX35vyOXC"
      },
      "outputs": [],
      "source": [
        "# Calcular la mediana de las columnas 'nkill' y 'nwound'\n",
        "median_nkill = data_2015['nkill'].median()\n",
        "median_nwound = data_2015['nwound'].median()\n",
        "\n",
        "# Imputar los valores perdidos con la mediana\n",
        "data_2015['nkill'].fillna(median_nkill, inplace=True)\n",
        "data_2015['nwound'].fillna(median_nwound, inplace=True)\n",
        "\n",
        "# Verificar si hay valores nulos restantes\n",
        "print(data_2015[['nkill', 'nwound']].isnull().sum())"
      ]
    },
    {
      "cell_type": "code",
      "execution_count": null,
      "metadata": {
        "id": "q1lr7pqtcod6"
      },
      "outputs": [],
      "source": [
        "data_2015.head()"
      ]
    },
    {
      "cell_type": "code",
      "execution_count": null,
      "metadata": {
        "id": "rd_ckGJrEjZ9"
      },
      "outputs": [],
      "source": [
        "data_2015.shape"
      ]
    },
    {
      "cell_type": "markdown",
      "metadata": {
        "id": "kv9irM0dLlQJ"
      },
      "source": [
        "Ventajas de Usar la Mediana para Imputación en datos atípicos:\n",
        "\n",
        "***Robustez frente a Valores Atípicos:\n",
        "\n",
        "La mediana es menos sensible a los valores atípicos que la media. En otras palabras, los valores extremadamente altos o bajos no afectan la mediana tanto como afectan la media. Esto la hace una mejor opción para datasets que pueden contener valores atípicos, ya que la mediana proporcionará una estimación central más representativa de los datos subyacentes.\n",
        "\n",
        "***Distribuciones Asimétricas:\n",
        "\n",
        "En distribuciones asimétricas (sesgadas), la mediana proporciona una medida central más precisa que la media, que puede estar sesgada por los valores extremos. Por lo tanto, la mediana es más representativa del \"centro\" de los datos en estos casos.\n",
        "\n",
        "***Simetría No Necesaria:\n",
        "\n",
        "No se requiere que los datos sigan una distribución normal para que la mediana sea una buena medida central. Esto es particularmente útil en la práctica, donde muchas variables no siguen distribuciones normales.\n",
        "\n",
        "---Imputación de Datos Perdidos:\n",
        "\n",
        "Cuando se trata de imputar datos perdidos (missing data), hay varias opciones, y la elección de la mediana puede ser ventajosa en muchas situaciones:\n",
        "\n",
        "***Simple y Eficaz:\n",
        "\n",
        "La imputación con la mediana es un método simple y fácil de implementar. No requiere modelos complejos ni supuestos específicos sobre la distribución de los datos.\n",
        "\n",
        "***Preservación de la Distribución Original:\n",
        "\n",
        "Aunque la mediana no preserva la variabilidad de los datos imputados tan bien como métodos más complejos (como la imputación múltiple o los modelos de regresión), tiene la ventaja de mantener la forma básica de la distribución original de los datos.\n",
        "\n",
        "***Menor Sesgo:\n",
        "\n",
        "Imputar valores perdidos con la mediana introduce menos sesgo que la imputación con la media, especialmente en presencia de valores atípicos"
      ]
    },
    {
      "cell_type": "markdown",
      "metadata": {
        "id": "FjgAq6-fJhxp"
      },
      "source": [
        "# Analisis Multivariable"
      ]
    },
    {
      "cell_type": "code",
      "execution_count": null,
      "metadata": {
        "id": "fm8MyPQyeQLX"
      },
      "outputs": [],
      "source": [
        "fig, axis = plt.subplots(8, 2, figsize=(14, 32))\n",
        "# Lista de pares de variables para gráficos de dispersión y mapas de calor\n",
        "pairs = [\n",
        "    ('success_num', 'nkill'),\n",
        "    ('suicide_num', 'nwound'),\n",
        "    ('country_txt_num', 'natlty1_txt_num'),\n",
        "    ('attacktype1_txt_num', 'gname_num'),\n",
        "    ('weaptype1_txt_num', 'attacktype1_txt_num'),\n",
        "    ('ishostkid_num', 'INT_LOG_num'),\n",
        "    ('INT_IDEO_num', 'region_txt_num'),\n",
        "    ('provstate_num', 'weaptype1_txt_num')\n",
        "]\n",
        "\n",
        "# Generar gráficos de dispersión y mapas de calor para cada par\n",
        "for i, (var1, var2) in enumerate(pairs):\n",
        "    sns.regplot(ax=axis[i, 0], data=data_2015, x=var1, y=var2)\n",
        "    sns.heatmap(data_2015[[var1, var2]].corr(), annot=True, fmt=\".2f\", ax=axis[i, 1], cbar=False, vmin=-1, vmax=1, cmap='coolwarm')\n",
        "\n",
        "plt.tight_layout()\n",
        "plt.show()"
      ]
    },
    {
      "cell_type": "code",
      "execution_count": null,
      "metadata": {
        "id": "5UJMI8RSPUIr"
      },
      "outputs": [],
      "source": [
        "fig, axis = plt.subplots(figsize = (20, 15))\n",
        "\n",
        "sns.heatmap(data_2015[['nkill', 'nwound', 'country_txt_num', 'region_txt_num',\n",
        "       'provstate_num', 'city_num', 'success_num', 'suicide_num',\n",
        "       'attacktype1_txt_num', 'targtype1_txt_num', 'natlty1_txt_num',\n",
        "       'gname_num', 'weaptype1_txt_num', 'property_num', 'ishostkid_num',\n",
        "       'INT_LOG_num', 'INT_IDEO_num']].corr(), annot = True, fmt = \".2f\")\n",
        "\n",
        "plt.tight_layout()\n",
        "\n",
        "plt.show()"
      ]
    },
    {
      "cell_type": "markdown",
      "metadata": {
        "id": "hDqlAudfAAeM"
      },
      "source": [
        "Hay numerosas variables con alta correlacion lo que podria incurrir en un problema de muticolinealidad por lo que de las variables relacionadas con la ubicacion unicamente eligiremos natly_txt, la nacionalidad del perpetrador y prescindiremos del resto pues está estrechamente relacionada la nacionalidad de éste con el lugar del ataque suicida; INT_LOG e INT_IDEO tambien aparecen con alta correlacion eligiendo INT_IDEO, y tambien eliminaremos isthostkid por la alta correlacion con el tipo de ataque llevado a cabo."
      ]
    },
    {
      "cell_type": "code",
      "execution_count": null,
      "metadata": {
        "id": "lU3WxSgsDCJh"
      },
      "outputs": [],
      "source": [
        "data.to_csv('data_EDA.csv', index=False)"
      ]
    },
    {
      "cell_type": "code",
      "execution_count": null,
      "metadata": {
        "id": "V-xiMKMXSpZm"
      },
      "outputs": [],
      "source": [
        "# Sumar las columnas 'nkill' y 'nwound' para obtener 'totales'\n",
        "data_2015['totales'] = data_2015['nkill'] + data_2015['nwound']\n",
        "\n",
        "# Verificar que se haya creado correctamente la columna\n",
        "print(data_2015[['nkill', 'nwound', 'totales']].head())"
      ]
    },
    {
      "cell_type": "code",
      "execution_count": null,
      "metadata": {
        "id": "EC36S1NmSrw2"
      },
      "outputs": [],
      "source": [
        "data_2015.head()"
      ]
    },
    {
      "cell_type": "code",
      "execution_count": null,
      "metadata": {
        "id": "E7Wd3XqaqJRr"
      },
      "outputs": [],
      "source": [
        "variables = ['totales', 'date',  'country_txt_num', 'region_txt_num',\n",
        "             'provstate_num', 'city_num', 'success_num', 'attacktype1_txt_num',\n",
        "             'targtype1_txt_num', 'natlty1_txt_num', 'gname_num',\n",
        "             'weaptype1_txt_num', 'property_num', 'ishostkid_num',\n",
        "             'INT_LOG_num', 'INT_IDEO_num']"
      ]
    },
    {
      "cell_type": "markdown",
      "metadata": {
        "id": "9x14vYBcQznF"
      },
      "source": [
        "# Herramientas de Clasificacion"
      ]
    },
    {
      "cell_type": "code",
      "execution_count": null,
      "metadata": {
        "id": "AZn9eIzYW4ch"
      },
      "outputs": [],
      "source": [
        "data_2015.shape"
      ]
    },
    {
      "cell_type": "code",
      "execution_count": null,
      "metadata": {
        "id": "0iFDzMVzTHyw"
      },
      "outputs": [],
      "source": [
        "print(data_2015.columns)"
      ]
    },
    {
      "cell_type": "code",
      "execution_count": null,
      "metadata": {
        "id": "a3T5JqnoYwcW"
      },
      "outputs": [],
      "source": [
        "arbol_2015 = data_2015.copy()"
      ]
    },
    {
      "cell_type": "code",
      "execution_count": null,
      "metadata": {
        "id": "CbxwuB5MY-HV"
      },
      "outputs": [],
      "source": [
        "print(arbol_2015.columns)"
      ]
    },
    {
      "cell_type": "code",
      "execution_count": null,
      "metadata": {
        "id": "JD6iEJLI-OXP"
      },
      "outputs": [],
      "source": [
        "arbol_2015.drop(columns=['nkill', 'nwound'], inplace=True)\n"
      ]
    },
    {
      "cell_type": "code",
      "execution_count": null,
      "metadata": {
        "id": "ZoXefAud-m_6"
      },
      "outputs": [],
      "source": [
        "print(arbol_2015.columns)"
      ]
    },
    {
      "cell_type": "code",
      "execution_count": null,
      "metadata": {
        "id": "oodlX2LRi25h"
      },
      "outputs": [],
      "source": [
        "# Lista de columnas a eliminar\n",
        "columns_to_drop = ['country_txt_num',  'region_txt_num', 'provstate_num',\n",
        "       'city_num', 'success_num', 'weaptype1_txt_num', 'ishostkid_num', 'INT_LOG_num']\n",
        "\n",
        "arbol_2015 = arbol_2015.drop(columns=columns_to_drop)\n"
      ]
    },
    {
      "cell_type": "code",
      "execution_count": null,
      "metadata": {
        "id": "kbCpN0YrQJsB"
      },
      "outputs": [],
      "source": [
        "print(arbol_2015.columns)"
      ]
    },
    {
      "cell_type": "code",
      "execution_count": null,
      "metadata": {
        "id": "DT6UMmAla3-0"
      },
      "outputs": [],
      "source": [
        "# Calcular la matriz de correlación\n",
        "correlation_matrix = arbol_2015[[ 'suicide_num', 'attacktype1_txt_num',\n",
        "       'targtype1_txt_num', 'natlty1_txt_num', 'gname_num', 'property_num',\n",
        "       'INT_IDEO_num', 'totales']].corr()\n",
        "\n",
        "# Visualizar la matriz de correlación\n",
        "plt.figure(figsize=(12, 10))\n",
        "sns.heatmap(correlation_matrix, annot=True, cmap='coolwarm', fmt=\".2f\")\n",
        "plt.title('Matriz de Correlación')\n",
        "plt.show()"
      ]
    },
    {
      "cell_type": "code",
      "execution_count": null,
      "metadata": {
        "id": "8Q-LTUpPZmJi"
      },
      "outputs": [],
      "source": [
        "\n",
        "from sklearn.feature_selection import SelectKBest\n",
        "from sklearn.model_selection import train_test_split\n",
        "\n",
        "X = arbol_2015.drop(\"suicide_num\", axis = 1)\n",
        "y = arbol_2015[\"suicide_num\"]\n",
        "\n",
        "X_train, X_test, y_train, y_test = train_test_split(X, y, test_size = 0.2, random_state = 42)\n",
        "\n",
        "selection_model = SelectKBest(k = 6)\n",
        "selection_model.fit(X_train, y_train)\n",
        "\n",
        "selected_columns = X_train.columns[selection_model.get_support()]\n",
        "X_train_sel = pd.DataFrame(selection_model.transform(X_train), columns = selected_columns)\n",
        "X_test_sel = pd.DataFrame(selection_model.transform(X_test), columns = selected_columns)\n",
        "\n",
        "X_train_sel.head()"
      ]
    },
    {
      "cell_type": "code",
      "execution_count": null,
      "metadata": {
        "id": "PIZniPNYbxRe"
      },
      "outputs": [],
      "source": [
        "X_test_sel.head()"
      ]
    },
    {
      "cell_type": "markdown",
      "metadata": {
        "id": "0H0Z90wryQQZ"
      },
      "source": [
        "# 3.BOOSTING"
      ]
    },
    {
      "cell_type": "code",
      "execution_count": null,
      "metadata": {
        "id": "rWsG1GuBt5DA"
      },
      "outputs": [],
      "source": [
        "from sklearn.ensemble import RandomForestClassifier, GradientBoostingClassifier\n",
        "from xgboost import XGBClassifier\n",
        "from sklearn.metrics import classification_report, confusion_matrix\n",
        "from sklearn.tree import DecisionTreeClassifier, DecisionTreeRegressor\n",
        "from sklearn.ensemble import RandomForestClassifier, RandomForestRegressor\n",
        "from sklearn.ensemble import GradientBoostingClassifier, GradientBoostingRegressor\n",
        "import xgboost as xgb\n",
        "from xgboost import XGBClassifier, XGBRegressor\n",
        "\n",
        "\n"
      ]
    },
    {
      "cell_type": "code",
      "execution_count": null,
      "metadata": {
        "id": "15Hwa_V1yYBn"
      },
      "outputs": [],
      "source": [
        "\n",
        "\n",
        "# Supresión de advertencias\n",
        "def warn(*args, **kwargs):\n",
        "    pass\n",
        "\n",
        "import warnings\n",
        "warnings.warn = warn"
      ]
    },
    {
      "cell_type": "code",
      "execution_count": null,
      "metadata": {
        "id": "xCjR6No9ybbH"
      },
      "outputs": [],
      "source": [
        "# Modelo de Árbol de Decisión\n",
        "model = DecisionTreeClassifier(random_state=42)\n",
        "model.fit(X_train, y_train)\n",
        "\n",
        "# Predicciones\n",
        "dt_pred = model.predict(X_test)\n",
        "\n",
        "# Evaluación\n",
        "print(\"Decision Tree Classifier:\")\n",
        "print(classification_report(y_test, dt_pred))\n",
        "print(\"Confusion Matrix:\\n\", confusion_matrix(y_test, dt_pred))"
      ]
    },
    {
      "cell_type": "code",
      "execution_count": null,
      "metadata": {
        "id": "8TpIrYJayftp"
      },
      "outputs": [],
      "source": [
        "# Modelo de Bosque Aleatorio\n",
        "rf_model = RandomForestClassifier(random_state=42)\n",
        "rf_model.fit(X_train, y_train)\n",
        "\n",
        "# Predicciones\n",
        "rf_pred = rf_model.predict(X_test)\n",
        "\n",
        "# Evaluación\n",
        "print(\"Random Forest Classifier:\")\n",
        "print(classification_report(y_test, rf_pred))\n",
        "print(\"Confusion Matrix:\\n\", confusion_matrix(y_test, rf_pred))"
      ]
    },
    {
      "cell_type": "code",
      "execution_count": null,
      "metadata": {
        "id": "AAZAIwsSyj7b"
      },
      "outputs": [],
      "source": [
        "# Modelo de Gradient Boosting\n",
        "gb_model = GradientBoostingClassifier(random_state=42)\n",
        "gb_model.fit(X_train, y_train)\n",
        "\n",
        "# Predicciones\n",
        "gb_pred = gb_model.predict(X_test)\n",
        "\n",
        "# Evaluación\n",
        "print(\"Gradient Boosting Classifier:\")\n",
        "print(classification_report(y_test, gb_pred))\n",
        "print(\"Confusion Matrix:\\n\", confusion_matrix(y_test, gb_pred))"
      ]
    },
    {
      "cell_type": "code",
      "execution_count": null,
      "metadata": {
        "colab": {
          "background_save": true
        },
        "id": "GRIBVX31yoU3"
      },
      "outputs": [],
      "source": [
        "from sklearn.model_selection import GridSearchCV\n",
        "# Modelo de XGBoost\n",
        "xgb_model = XGBClassifier(use_label_encoder=False, eval_metric='mlogloss', random_state=42)\n",
        "param_grid = {\n",
        "    'learning_rate': [0.01, 0.05, 0.1, 0.3],\n",
        "    'n_estimators': [100, 200, 300],\n",
        "    'max_depth': [3, 4, 5],\n",
        "    'subsample': [0.6, 0.8, 1.0]\n",
        "}\n",
        "\n",
        "grid_search = GridSearchCV(estimator=xgb_model, param_grid=param_grid, scoring='accuracy', cv=5, n_jobs=-1)\n",
        "grid_search.fit(X_train, y_train)\n",
        "\n",
        "# Mejor estimador\n",
        "best_xgb = grid_search.best_estimator_\n",
        "\n",
        "# Predicciones\n",
        "xgb_pred = best_xgb.predict(X_test)\n",
        "\n",
        "# Evaluación\n",
        "print(\"XGBoost Classifier:\")\n",
        "print(classification_report(y_test, xgb_pred))\n",
        "print(\"Confusion Matrix:\\n\", confusion_matrix(y_test, xgb_pred))\n",
        "print(f\"Best hyperparameters: {grid_search.best_params_}\")"
      ]
    },
    {
      "cell_type": "markdown",
      "metadata": {
        "id": "J26q_B61G4O5"
      },
      "source": [
        "XGBoost Classifier es el mejor modelo:\n",
        "\n",
        "Precision:\n",
        "\n",
        "Clase 0: 0.97 Clase 1: 0.69\n",
        "\n",
        "Recall:\n",
        "\n",
        "Clase 0: 0.98 Clase 1: 0.59\n",
        "\n",
        "F1-Score:\n",
        "\n",
        "Clase 0: 0.98 Clase 1: 0.63\n",
        "\n",
        "Accuracy: 0.95\n",
        "\n",
        "Matriz de Confusión:\n",
        "\n",
        "Verdaderos negativos (Clase 0 predicha correctamente): 7224\n",
        "\n",
        "Falsos positivos (Clase 1 predicha incorrectamente): 141\n",
        "\n",
        "Falsos negativos (Clase 0 predicha incorrectamente): 217\n",
        "\n",
        "Verdaderos positivos (Clase 1 predicha correctamente): 309"
      ]
    },
    {
      "cell_type": "markdown",
      "metadata": {
        "id": "talNrA5XJtFY"
      },
      "source": [
        " Los altos valores de precisión y recall para la clase 0 indican que el modelo es efectivo al predecir cuando no hay suicidio involucrado. Esto es crucial, ya que ayuda a identificar correctamente los incidentes que no resultan en suicidio, lo cual puede ser útil para la planificación de la seguridad y la prevención.La menor precisión y recall para la clase 1 sugieren que el modelo podría beneficiarse de ajustes adicionales para mejorar la capacidad de detectar casos reales de suicidio. Esto podría incluir la exploración de técnicas de  recopilación de más datos relevantes (incluyendo por ejemplo mas años o alguno significativo como 2011) o ajuste de características del modelo (analizar con mas detenemiento y decidir si eliminar o añadir columnas).\n",
        " Weighted Avg: Es particularmente útil cuando hay desequilibrio de clases, como en este caso donde la clase 0 (no suicide) es mucho más frecuente que la clase 1 (suicide). Muestra cómo se desempeña el modelo en general, ponderando más las métricas en función del tamaño de cada clase, y en ese sentido se puede confirmar que es un buen analisis con un valor del 95%"
      ]
    },
    {
      "cell_type": "code",
      "execution_count": null,
      "metadata": {
        "colab": {
          "background_save": true
        },
        "id": "eIOSGhVFmnnZ"
      },
      "outputs": [],
      "source": [
        "best_xgb = xgb.XGBRegressor(objective='reg:squarederror', n_estimators=100, random_state=42)\n",
        "best_xgb.fit(X_train, y_train)\n",
        "\n",
        "\n",
        "importancia = best_xgb.feature_importances_\n",
        "\n",
        "# Crear un DataFrame para mostrar las importancias junto con los nombres de las variables\n",
        "importancia_df = pd.DataFrame({'Feature': X_train.columns, 'Importance': importancia})\n",
        "\n",
        "# Ordenar el DataFrame por importancia descendente\n",
        "importancia_df = importancia_df.sort_values(by='Importance', ascending=False)\n",
        "\n",
        "# Visualizar la importancia de las variables\n",
        "plt.figure(figsize=(10, 8))\n",
        "sns.barplot(x='Importance', y='Feature', data=importancia_df, palette='viridis')\n",
        "plt.xlabel('Importancia')\n",
        "plt.ylabel('Variables')\n",
        "plt.title('Importancia de las Características')\n",
        "plt.show()\n",
        "\n"
      ]
    },
    {
      "cell_type": "markdown",
      "metadata": {
        "id": "SJMSgSTuZf6f"
      },
      "source": [
        "Se podrian incluir todas, selectkbest no añade la ultima(daños a la propiedad), por lo que es correcto. Se puede apreciar como los ataques terroristas suicidas estan estrechamente relacionados con motivos ideologicos, el numero total de victimas, el tipo de ataque, el nombre del grupo terrorista que lo realiza, la nacionalidad de éste o éstos y el objetivo al que se dirige el ataque"
      ]
    }
  ],
  "metadata": {
    "colab": {
      "provenance": []
    },
    "kernelspec": {
      "display_name": "Python 3",
      "language": "python",
      "name": "python3"
    },
    "language_info": {
      "codemirror_mode": {
        "name": "ipython",
        "version": 3
      },
      "file_extension": ".py",
      "mimetype": "text/x-python",
      "name": "python",
      "nbconvert_exporter": "python",
      "pygments_lexer": "ipython3",
      "version": "3.11.4"
    }
  },
  "nbformat": 4,
  "nbformat_minor": 0
}